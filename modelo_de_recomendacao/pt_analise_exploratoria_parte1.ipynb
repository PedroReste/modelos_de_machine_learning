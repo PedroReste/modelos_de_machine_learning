{
 "cells": [
  {
   "cell_type": "markdown",
   "id": "6eae55cb",
   "metadata": {},
   "source": [
    "# **Resumo da Análise Exploratória - Parte 01**\n",
    "Esse notebook aborda uma breve exploração de dados para comprender pontos principais dos dados e a viabilidade para gerar um modelo de recomendação de produtos.\n",
    "\n",
    "**Insights Gerados**\n",
    "- 90% dos pedidos tem um único produto e 96% possuem um único produto ou mais de um produto igual.\n",
    "- Como 96% da base consiste em pedidos com o mesmo produto, será possível utilizar o order_id como uma proxy para o produto, já que as bases da Olist não possuem a avalição feita por produto, mas apenas por pedido.\n",
    "- Aproximadamente 97% dos usuários fizeram um único pedido.\n",
    "- Numa escala de nota de 1 a 5: aproximadamente 12% dos usuários deram uma nota baixa para o produto (1 ou 2), 8% deram uma nota mediana (3) e 80% deram uma nota alta (4 ou 5).\n",
    "- Mesmo com 97% dos usuários tendo um pedido, vamos no modelo testar tanto o valor absoluto da média de notas quanto os valores normalizado."
   ]
  },
  {
   "cell_type": "code",
   "execution_count": 1,
   "id": "5afc279e",
   "metadata": {},
   "outputs": [],
   "source": [
    "#Bibliotecas\n",
    "import pandas as pd"
   ]
  },
  {
   "cell_type": "code",
   "execution_count": 2,
   "id": "5c8ea70d",
   "metadata": {},
   "outputs": [],
   "source": [
    "#Bases de dados\n",
    "olist_customers = pd.read_csv(\"olist_customers_dataset.csv\", sep=\",\", \n",
    "                              usecols=['customer_id', 'customer_unique_id'])\n",
    "olist_orders = pd.read_csv(\"olist_orders_dataset.csv\", sep=\",\", \n",
    "                           usecols=['customer_id', 'order_id', 'order_status', 'order_purchase_timestamp'])\n",
    "olist_order_reviews = pd.read_csv(\"olist_order_reviews_dataset.csv\", sep=\",\", \n",
    "                                  usecols=['order_id', 'review_score'])\n",
    "olist_order_items = pd.read_csv(\"olist_order_items_dataset.csv\", sep=\",\", \n",
    "                                usecols=['order_id', 'product_id'])"
   ]
  },
  {
   "cell_type": "markdown",
   "id": "3d316562",
   "metadata": {},
   "source": [
    "---\n",
    "# **Verificando a volumetria de pedidos e produtos de cada pedido**\n",
    "\n",
    "O dataset **olist_order_items** contém a lista de pedidos e seus itens com diversas informações, mas para nós nesse momento vai ser importante apenas as colunas de **order_id** e **product_id** de cada pedido realizado.\n",
    "\n",
    "Nessa seção do notebook, vamos verificar a volumetria de pedidos e entender alguns elementos principais, como: existem quantos itens por pedido? esses itens são iguais?\n",
    "\n",
    "Numa exploração anterior nos datasets da Olist, foi percebido que essas bases tem avaliação de satisfação por pedido e não produto. A intenção agora é comprender essas carecterísicas para validar a possibilidade de utilizar o **order_id** com uma proxy de **product_id** para gerar o modelo de recomendação de produtos para os clientes desse dataset."
   ]
  },
  {
   "cell_type": "code",
   "execution_count": 3,
   "id": "6fb37595",
   "metadata": {},
   "outputs": [],
   "source": [
    "produtos = olist_order_items.groupby('order_id').agg(total=('product_id','count'),\n",
    "                                          distinto=('product_id','nunique'))\n",
    "produtos.reset_index(inplace=True)"
   ]
  },
  {
   "cell_type": "code",
   "execution_count": 4,
   "id": "2102b403",
   "metadata": {},
   "outputs": [
    {
     "data": {
      "text/html": [
       "<div>\n",
       "<style scoped>\n",
       "    .dataframe tbody tr th:only-of-type {\n",
       "        vertical-align: middle;\n",
       "    }\n",
       "\n",
       "    .dataframe tbody tr th {\n",
       "        vertical-align: top;\n",
       "    }\n",
       "\n",
       "    .dataframe thead th {\n",
       "        text-align: right;\n",
       "    }\n",
       "</style>\n",
       "<table border=\"1\" class=\"dataframe\">\n",
       "  <thead>\n",
       "    <tr style=\"text-align: right;\">\n",
       "      <th></th>\n",
       "      <th>volumetria_pedidos</th>\n",
       "      <th>volumetria_pedidos_perc</th>\n",
       "    </tr>\n",
       "    <tr>\n",
       "      <th>total</th>\n",
       "      <th></th>\n",
       "      <th></th>\n",
       "    </tr>\n",
       "  </thead>\n",
       "  <tbody>\n",
       "    <tr>\n",
       "      <th>1</th>\n",
       "      <td>88863</td>\n",
       "      <td>90.06</td>\n",
       "    </tr>\n",
       "    <tr>\n",
       "      <th>2</th>\n",
       "      <td>7516</td>\n",
       "      <td>7.62</td>\n",
       "    </tr>\n",
       "    <tr>\n",
       "      <th>3</th>\n",
       "      <td>1322</td>\n",
       "      <td>1.34</td>\n",
       "    </tr>\n",
       "    <tr>\n",
       "      <th>4</th>\n",
       "      <td>505</td>\n",
       "      <td>0.51</td>\n",
       "    </tr>\n",
       "    <tr>\n",
       "      <th>5</th>\n",
       "      <td>204</td>\n",
       "      <td>0.21</td>\n",
       "    </tr>\n",
       "  </tbody>\n",
       "</table>\n",
       "</div>"
      ],
      "text/plain": [
       "       volumetria_pedidos  volumetria_pedidos_perc\n",
       "total                                             \n",
       "1                   88863                    90.06\n",
       "2                    7516                     7.62\n",
       "3                    1322                     1.34\n",
       "4                     505                     0.51\n",
       "5                     204                     0.21"
      ]
     },
     "execution_count": 4,
     "metadata": {},
     "output_type": "execute_result"
    }
   ],
   "source": [
    "produtos_df = pd.DataFrame({\n",
    "    'volumetria_pedidos':produtos['total'].value_counts(),\n",
    "    'volumetria_pedidos_perc':(produtos['total'].value_counts(normalize=True)*100).round(2),\n",
    "})\n",
    "produtos_df.head()"
   ]
  },
  {
   "cell_type": "code",
   "execution_count": 5,
   "id": "803ec04a",
   "metadata": {},
   "outputs": [
    {
     "data": {
      "text/html": [
       "<div>\n",
       "<style scoped>\n",
       "    .dataframe tbody tr th:only-of-type {\n",
       "        vertical-align: middle;\n",
       "    }\n",
       "\n",
       "    .dataframe tbody tr th {\n",
       "        vertical-align: top;\n",
       "    }\n",
       "\n",
       "    .dataframe thead th {\n",
       "        text-align: right;\n",
       "    }\n",
       "</style>\n",
       "<table border=\"1\" class=\"dataframe\">\n",
       "  <thead>\n",
       "    <tr style=\"text-align: right;\">\n",
       "      <th></th>\n",
       "      <th>volumetria_disintos</th>\n",
       "      <th>volumetria_disintos_perc</th>\n",
       "    </tr>\n",
       "    <tr>\n",
       "      <th>distinto</th>\n",
       "      <th></th>\n",
       "      <th></th>\n",
       "    </tr>\n",
       "  </thead>\n",
       "  <tbody>\n",
       "    <tr>\n",
       "      <th>1</th>\n",
       "      <td>95430</td>\n",
       "      <td>96.72</td>\n",
       "    </tr>\n",
       "    <tr>\n",
       "      <th>2</th>\n",
       "      <td>2846</td>\n",
       "      <td>2.88</td>\n",
       "    </tr>\n",
       "    <tr>\n",
       "      <th>3</th>\n",
       "      <td>298</td>\n",
       "      <td>0.30</td>\n",
       "    </tr>\n",
       "    <tr>\n",
       "      <th>4</th>\n",
       "      <td>70</td>\n",
       "      <td>0.07</td>\n",
       "    </tr>\n",
       "    <tr>\n",
       "      <th>6</th>\n",
       "      <td>10</td>\n",
       "      <td>0.01</td>\n",
       "    </tr>\n",
       "  </tbody>\n",
       "</table>\n",
       "</div>"
      ],
      "text/plain": [
       "          volumetria_disintos  volumetria_disintos_perc\n",
       "distinto                                               \n",
       "1                       95430                     96.72\n",
       "2                        2846                      2.88\n",
       "3                         298                      0.30\n",
       "4                          70                      0.07\n",
       "6                          10                      0.01"
      ]
     },
     "execution_count": 5,
     "metadata": {},
     "output_type": "execute_result"
    }
   ],
   "source": [
    "produtos_df = pd.DataFrame({\n",
    "    'volumetria_disintos':produtos['distinto'].value_counts(),\n",
    "    'volumetria_disintos_perc':(produtos['distinto'].value_counts(normalize=True)*100).round(2),\n",
    "})\n",
    "produtos_df.head()"
   ]
  },
  {
   "cell_type": "code",
   "execution_count": 6,
   "id": "47525b29",
   "metadata": {},
   "outputs": [],
   "source": [
    "lista_de_pedidos_com_unico_produto = produtos[produtos['distinto'] == 1]['order_id']"
   ]
  },
  {
   "cell_type": "markdown",
   "id": "c92de28c",
   "metadata": {},
   "source": [
    "- Aproximadamente 90% dos pedidos realizados que contém apenas um produto e 7% que contém 2 produtos.\n",
    "- Aproximadamente 96% dos pedidos tem o mesmo produto enquanto 4% possuiam produtos diferentes.\n",
    "- Como 96% da base consiste em pedidos com o mesmo produto, será possível utilizar o order_id como uma proxy para o produto, já que as bases da Olist não possuem a avalição feita por produto, mas apenas por pedido.\n",
    "- Tendo essa informação, podemos gerar uma lista de order_id que pedidos que contém um item únicos ou vários itens iguais para utilizarmos no modelo de recomeção de outros produtos."
   ]
  },
  {
   "cell_type": "markdown",
   "id": "a7435c77",
   "metadata": {},
   "source": [
    "---\n",
    "# **Verificando a volumetria de notas para cada pedido**\n",
    "\n",
    "Nessa seção, vamos investigar os dados sobre outra ótica. Agora vamos verificar a viabilidade dos datasets sobre a quantidade de avaliações realizadas para esses pedidos da lista de order_id gerada na seção anterior. Assim podemos conferir se houve avaliações o suficiente para que seja confiável o uso dessa base para treinar o modelo de recomendação."
   ]
  },
  {
   "cell_type": "code",
   "execution_count": 7,
   "id": "37397e41",
   "metadata": {},
   "outputs": [
    {
     "data": {
      "text/plain": [
       "(95430, 99441)"
      ]
     },
     "execution_count": 7,
     "metadata": {},
     "output_type": "execute_result"
    }
   ],
   "source": [
    "#Filtrando os order_id que estão dentro da lista de pedidos com único tipo de produto\n",
    "df_produtos = olist_orders[olist_orders['order_id'].isin(lista_de_pedidos_com_unico_produto)]\n",
    "\n",
    "#Comparando a qtd de linhas\n",
    "df_produtos.shape[0], olist_orders.shape[0]"
   ]
  },
  {
   "cell_type": "markdown",
   "id": "967c830f",
   "metadata": {},
   "source": [
    "Além de filtra o dataset **olist_orders** com a lista de order_ids da primeira seção, vamos também filtrar a base para pegarmos apenas os pedidos que tenham o **status como entregue**. Optei por essa forma para apenas utilizarmos apenas avaliações de produtos que foram devidamente entregues e consequentemente avaliados pelos os usuários."
   ]
  },
  {
   "cell_type": "code",
   "execution_count": 8,
   "id": "2e8bf0ea",
   "metadata": {},
   "outputs": [
    {
     "data": {
      "text/plain": [
       "(93281, 95430, 99441)"
      ]
     },
     "execution_count": 8,
     "metadata": {},
     "output_type": "execute_result"
    }
   ],
   "source": [
    "df_produtos_entregues = df_produtos[df_produtos['order_status'] == 'delivered'][['customer_id', 'order_id']]\n",
    "\n",
    "#Comparando a qtd de linhas\n",
    "df_produtos_entregues.shape[0], df_produtos.shape[0], olist_orders.shape[0]"
   ]
  },
  {
   "cell_type": "markdown",
   "id": "76e5037b",
   "metadata": {},
   "source": [
    "Um fator importante sobre os datasets é que na base **olist_customers** existe dois IDs de usuários diferentes, um que único e outros que é usado para a conexão com as demais bases. Vamos fazer o cruzamento desse dataset com o nosso dataset atual para utilizarmos a coluna de **customer_unique_id** ao invés da coluna **customer_id**. Além de cruzar com o dataset **olist_order_reviws** para obtermos as avaliações feitas desses pedidos."
   ]
  },
  {
   "cell_type": "code",
   "execution_count": 9,
   "id": "87525d62",
   "metadata": {},
   "outputs": [
    {
     "data": {
      "text/html": [
       "<div>\n",
       "<style scoped>\n",
       "    .dataframe tbody tr th:only-of-type {\n",
       "        vertical-align: middle;\n",
       "    }\n",
       "\n",
       "    .dataframe tbody tr th {\n",
       "        vertical-align: top;\n",
       "    }\n",
       "\n",
       "    .dataframe thead th {\n",
       "        text-align: right;\n",
       "    }\n",
       "</style>\n",
       "<table border=\"1\" class=\"dataframe\">\n",
       "  <thead>\n",
       "    <tr style=\"text-align: right;\">\n",
       "      <th></th>\n",
       "      <th>order_id</th>\n",
       "      <th>customer_unique_id</th>\n",
       "      <th>review_score</th>\n",
       "    </tr>\n",
       "  </thead>\n",
       "  <tbody>\n",
       "    <tr>\n",
       "      <th>0</th>\n",
       "      <td>e481f51cbdc54678b7cc49136f2d6af7</td>\n",
       "      <td>7c396fd4830fd04220f754e42b4e5bff</td>\n",
       "      <td>4.0</td>\n",
       "    </tr>\n",
       "    <tr>\n",
       "      <th>1</th>\n",
       "      <td>53cdb2fc8bc7dce0b6741e2150273451</td>\n",
       "      <td>af07308b275d755c9edb36a90c618231</td>\n",
       "      <td>4.0</td>\n",
       "    </tr>\n",
       "    <tr>\n",
       "      <th>2</th>\n",
       "      <td>47770eb9100c2d0c44946d9cf07ec65d</td>\n",
       "      <td>3a653a41f6f9fc3d2a113cf8398680e8</td>\n",
       "      <td>5.0</td>\n",
       "    </tr>\n",
       "    <tr>\n",
       "      <th>3</th>\n",
       "      <td>949d5b44dbf5de918fe9c16f97b45f8a</td>\n",
       "      <td>7c142cf63193a1473d2e66489a9ae977</td>\n",
       "      <td>5.0</td>\n",
       "    </tr>\n",
       "    <tr>\n",
       "      <th>4</th>\n",
       "      <td>ad21c59c0840e6cb83a9ceb5573f8159</td>\n",
       "      <td>72632f0f9dd73dfee390c9b22eb56dd6</td>\n",
       "      <td>5.0</td>\n",
       "    </tr>\n",
       "  </tbody>\n",
       "</table>\n",
       "</div>"
      ],
      "text/plain": [
       "                           order_id                customer_unique_id  \\\n",
       "0  e481f51cbdc54678b7cc49136f2d6af7  7c396fd4830fd04220f754e42b4e5bff   \n",
       "1  53cdb2fc8bc7dce0b6741e2150273451  af07308b275d755c9edb36a90c618231   \n",
       "2  47770eb9100c2d0c44946d9cf07ec65d  3a653a41f6f9fc3d2a113cf8398680e8   \n",
       "3  949d5b44dbf5de918fe9c16f97b45f8a  7c142cf63193a1473d2e66489a9ae977   \n",
       "4  ad21c59c0840e6cb83a9ceb5573f8159  72632f0f9dd73dfee390c9b22eb56dd6   \n",
       "\n",
       "   review_score  \n",
       "0           4.0  \n",
       "1           4.0  \n",
       "2           5.0  \n",
       "3           5.0  \n",
       "4           5.0  "
      ]
     },
     "execution_count": 9,
     "metadata": {},
     "output_type": "execute_result"
    }
   ],
   "source": [
    "#Cruzamentos\n",
    "df_produtos_avaliacoes = df_produtos_entregues.merge(olist_customers, on=\"customer_id\", how=\"inner\") \\\n",
    "                                              .merge(olist_order_reviews, on=\"order_id\", how='left')\n",
    "df_produtos_avaliacoes.drop(columns='customer_id', inplace=True)\n",
    "df_produtos_avaliacoes.head()"
   ]
  },
  {
   "cell_type": "code",
   "execution_count": 10,
   "id": "5fb54e9b",
   "metadata": {},
   "outputs": [
    {
     "data": {
      "text/plain": [
       "order_id  customer_unique_id  review_score\n",
       "False     False               False           93163\n",
       "                              True              608\n",
       "Name: count, dtype: int64"
      ]
     },
     "execution_count": 10,
     "metadata": {},
     "output_type": "execute_result"
    }
   ],
   "source": [
    "# Verificando se há valores vazios\n",
    "df_produtos_avaliacoes.isna().value_counts()"
   ]
  },
  {
   "cell_type": "code",
   "execution_count": 11,
   "id": "44b8ba61",
   "metadata": {},
   "outputs": [],
   "source": [
    "#Filtrando os pedidos que estão sem avaliações\n",
    "df_produtos_avaliacoes.dropna(subset=['review_score'], inplace=True)"
   ]
  },
  {
   "cell_type": "code",
   "execution_count": 12,
   "id": "99a76751",
   "metadata": {},
   "outputs": [],
   "source": [
    "# Renomeando o nome das colunas\n",
    "df_produtos_avaliacoes.rename(columns={\n",
    "    'customer_unique_id':'user_id',\n",
    "    'order_id':'product_id',\n",
    "    'review_score':'rating'\n",
    "}, inplace=True)"
   ]
  },
  {
   "cell_type": "code",
   "execution_count": 13,
   "id": "9147bbca",
   "metadata": {},
   "outputs": [
    {
     "data": {
      "text/html": [
       "<div>\n",
       "<style scoped>\n",
       "    .dataframe tbody tr th:only-of-type {\n",
       "        vertical-align: middle;\n",
       "    }\n",
       "\n",
       "    .dataframe tbody tr th {\n",
       "        vertical-align: top;\n",
       "    }\n",
       "\n",
       "    .dataframe thead th {\n",
       "        text-align: right;\n",
       "    }\n",
       "</style>\n",
       "<table border=\"1\" class=\"dataframe\">\n",
       "  <thead>\n",
       "    <tr style=\"text-align: right;\">\n",
       "      <th></th>\n",
       "      <th>qtd_avaliacoes</th>\n",
       "      <th>qtd_usuarios</th>\n",
       "      <th>qtd_usuarios_perct</th>\n",
       "    </tr>\n",
       "  </thead>\n",
       "  <tbody>\n",
       "    <tr>\n",
       "      <th>0</th>\n",
       "      <td>1</td>\n",
       "      <td>87323</td>\n",
       "      <td>97.11</td>\n",
       "    </tr>\n",
       "    <tr>\n",
       "      <th>1</th>\n",
       "      <td>2</td>\n",
       "      <td>2154</td>\n",
       "      <td>2.40</td>\n",
       "    </tr>\n",
       "    <tr>\n",
       "      <th>2</th>\n",
       "      <td>3</td>\n",
       "      <td>310</td>\n",
       "      <td>0.34</td>\n",
       "    </tr>\n",
       "    <tr>\n",
       "      <th>3</th>\n",
       "      <td>4</td>\n",
       "      <td>101</td>\n",
       "      <td>0.11</td>\n",
       "    </tr>\n",
       "    <tr>\n",
       "      <th>4</th>\n",
       "      <td>5</td>\n",
       "      <td>22</td>\n",
       "      <td>0.02</td>\n",
       "    </tr>\n",
       "    <tr>\n",
       "      <th>5</th>\n",
       "      <td>6</td>\n",
       "      <td>11</td>\n",
       "      <td>0.01</td>\n",
       "    </tr>\n",
       "    <tr>\n",
       "      <th>6</th>\n",
       "      <td>7</td>\n",
       "      <td>1</td>\n",
       "      <td>0.00</td>\n",
       "    </tr>\n",
       "    <tr>\n",
       "      <th>7</th>\n",
       "      <td>15</td>\n",
       "      <td>1</td>\n",
       "      <td>0.00</td>\n",
       "    </tr>\n",
       "  </tbody>\n",
       "</table>\n",
       "</div>"
      ],
      "text/plain": [
       "   qtd_avaliacoes  qtd_usuarios  qtd_usuarios_perct\n",
       "0               1         87323               97.11\n",
       "1               2          2154                2.40\n",
       "2               3           310                0.34\n",
       "3               4           101                0.11\n",
       "4               5            22                0.02\n",
       "5               6            11                0.01\n",
       "6               7             1                0.00\n",
       "7              15             1                0.00"
      ]
     },
     "execution_count": 13,
     "metadata": {},
     "output_type": "execute_result"
    }
   ],
   "source": [
    "#Comparando a quantidade de usuários e comparação a quantidade de avalições feitas\n",
    "avaliacoes_por_user_id = df_produtos_avaliacoes['user_id'].value_counts()\n",
    "usuarios_por_qtd_avaliacoes = avaliacoes_por_user_id.value_counts().sort_index()\n",
    "usuarios_por_qtd_avaliacoes_df = pd.DataFrame({\n",
    "    'qtd_avaliacoes': usuarios_por_qtd_avaliacoes.index,\n",
    "    'qtd_usuarios': usuarios_por_qtd_avaliacoes.values,\n",
    "    'qtd_usuarios_perct':((usuarios_por_qtd_avaliacoes.values / usuarios_por_qtd_avaliacoes.values.sum()) * 100).round(2)\n",
    "})\n",
    "usuarios_por_qtd_avaliacoes_df"
   ]
  },
  {
   "cell_type": "code",
   "execution_count": 22,
   "id": "db079b5d",
   "metadata": {},
   "outputs": [],
   "source": [
    "usuarios = df_produtos_avaliacoes.groupby('user_id').agg(pedidos=('product_id','count'),\n",
    "                                          avaliacoes=('rating','count'),\n",
    "                                          avaliacoes_avg=('rating','mean'))\n",
    "usuarios[\"avaliacoes_avg\"] = usuarios[\"avaliacoes_avg\"].round(0)\n",
    "usuarios.reset_index(inplace=True)"
   ]
  },
  {
   "cell_type": "code",
   "execution_count": 15,
   "id": "fbd34530",
   "metadata": {},
   "outputs": [
    {
     "data": {
      "text/html": [
       "<div>\n",
       "<style scoped>\n",
       "    .dataframe tbody tr th:only-of-type {\n",
       "        vertical-align: middle;\n",
       "    }\n",
       "\n",
       "    .dataframe tbody tr th {\n",
       "        vertical-align: top;\n",
       "    }\n",
       "\n",
       "    .dataframe thead th {\n",
       "        text-align: right;\n",
       "    }\n",
       "</style>\n",
       "<table border=\"1\" class=\"dataframe\">\n",
       "  <thead>\n",
       "    <tr style=\"text-align: right;\">\n",
       "      <th></th>\n",
       "      <th>volumetria_usuarios</th>\n",
       "      <th>volumetria_usuarios_perc</th>\n",
       "    </tr>\n",
       "    <tr>\n",
       "      <th>pedidos</th>\n",
       "      <th></th>\n",
       "      <th></th>\n",
       "    </tr>\n",
       "  </thead>\n",
       "  <tbody>\n",
       "    <tr>\n",
       "      <th>1</th>\n",
       "      <td>87323</td>\n",
       "      <td>97.11</td>\n",
       "    </tr>\n",
       "    <tr>\n",
       "      <th>2</th>\n",
       "      <td>2154</td>\n",
       "      <td>2.40</td>\n",
       "    </tr>\n",
       "    <tr>\n",
       "      <th>3</th>\n",
       "      <td>310</td>\n",
       "      <td>0.34</td>\n",
       "    </tr>\n",
       "    <tr>\n",
       "      <th>4</th>\n",
       "      <td>101</td>\n",
       "      <td>0.11</td>\n",
       "    </tr>\n",
       "    <tr>\n",
       "      <th>5</th>\n",
       "      <td>22</td>\n",
       "      <td>0.02</td>\n",
       "    </tr>\n",
       "  </tbody>\n",
       "</table>\n",
       "</div>"
      ],
      "text/plain": [
       "         volumetria_usuarios  volumetria_usuarios_perc\n",
       "pedidos                                               \n",
       "1                      87323                     97.11\n",
       "2                       2154                      2.40\n",
       "3                        310                      0.34\n",
       "4                        101                      0.11\n",
       "5                         22                      0.02"
      ]
     },
     "execution_count": 15,
     "metadata": {},
     "output_type": "execute_result"
    }
   ],
   "source": [
    "usuarios_df = pd.DataFrame({\n",
    "    'volumetria_usuarios':usuarios['pedidos'].value_counts(),\n",
    "    'volumetria_usuarios_perc':(usuarios['pedidos'].value_counts(normalize=True)*100).round(2)\n",
    "})\n",
    "usuarios_df.head()"
   ]
  },
  {
   "cell_type": "code",
   "execution_count": 24,
   "id": "cc8c3266",
   "metadata": {},
   "outputs": [
    {
     "data": {
      "text/html": [
       "<div>\n",
       "<style scoped>\n",
       "    .dataframe tbody tr th:only-of-type {\n",
       "        vertical-align: middle;\n",
       "    }\n",
       "\n",
       "    .dataframe tbody tr th {\n",
       "        vertical-align: top;\n",
       "    }\n",
       "\n",
       "    .dataframe thead th {\n",
       "        text-align: right;\n",
       "    }\n",
       "</style>\n",
       "<table border=\"1\" class=\"dataframe\">\n",
       "  <thead>\n",
       "    <tr style=\"text-align: right;\">\n",
       "      <th></th>\n",
       "      <th>volumetria_usuarios</th>\n",
       "      <th>volumetria_usuarios_perc</th>\n",
       "    </tr>\n",
       "    <tr>\n",
       "      <th>avaliacoes_avg</th>\n",
       "      <th></th>\n",
       "      <th></th>\n",
       "    </tr>\n",
       "  </thead>\n",
       "  <tbody>\n",
       "    <tr>\n",
       "      <th>1.0</th>\n",
       "      <td>8155</td>\n",
       "      <td>9.07</td>\n",
       "    </tr>\n",
       "    <tr>\n",
       "      <th>2.0</th>\n",
       "      <td>2706</td>\n",
       "      <td>3.01</td>\n",
       "    </tr>\n",
       "    <tr>\n",
       "      <th>3.0</th>\n",
       "      <td>7383</td>\n",
       "      <td>8.21</td>\n",
       "    </tr>\n",
       "    <tr>\n",
       "      <th>4.0</th>\n",
       "      <td>18300</td>\n",
       "      <td>20.35</td>\n",
       "    </tr>\n",
       "    <tr>\n",
       "      <th>5.0</th>\n",
       "      <td>53379</td>\n",
       "      <td>59.36</td>\n",
       "    </tr>\n",
       "  </tbody>\n",
       "</table>\n",
       "</div>"
      ],
      "text/plain": [
       "                volumetria_usuarios  volumetria_usuarios_perc\n",
       "avaliacoes_avg                                               \n",
       "1.0                            8155                      9.07\n",
       "2.0                            2706                      3.01\n",
       "3.0                            7383                      8.21\n",
       "4.0                           18300                     20.35\n",
       "5.0                           53379                     59.36"
      ]
     },
     "execution_count": 24,
     "metadata": {},
     "output_type": "execute_result"
    }
   ],
   "source": [
    "usuarios_df = pd.DataFrame({\n",
    "    'volumetria_usuarios':usuarios['avaliacoes_avg'].value_counts(),\n",
    "    'volumetria_usuarios_perc':(usuarios['avaliacoes_avg'].value_counts(normalize=True)*100).round(2)\n",
    "})\n",
    "usuarios_df.sort_index()"
   ]
  },
  {
   "cell_type": "code",
   "execution_count": 17,
   "id": "e01fce2c",
   "metadata": {},
   "outputs": [],
   "source": [
    "#Criando as notas normilizadas\n",
    "df_produtos_avaliacoes['user_mean'] = df_produtos_avaliacoes.groupby('user_id')['rating'].transform('mean')\n",
    "df_produtos_avaliacoes['user_reviews_count'] = df_produtos_avaliacoes.groupby('user_id')['rating'].transform('count')\n",
    "df_produtos_avaliacoes['normalized_rating'] = df_produtos_avaliacoes['rating'] - df_produtos_avaliacoes['user_mean']"
   ]
  },
  {
   "cell_type": "markdown",
   "id": "555f2e59",
   "metadata": {},
   "source": [
    "- Aproximadamente 97% dos usuários fizeram um único pedido.\n",
    "- Numa escala de nota de 1 a 5: aproximadamente 12% dos usuários deram uma nota baixa para o produto (1 ou 2), 8% deram uma nota mediana (3) e 80% deram uma nota alta (4 ou 5).\n",
    "- Mesmo com 97% dos usuários tendo um pedido, vamos no modelo testar tanto o valor absoluto da média de notas quanto os valores normalizado."
   ]
  }
 ],
 "metadata": {
  "kernelspec": {
   "display_name": "Python 3",
   "language": "python",
   "name": "python3"
  },
  "language_info": {
   "codemirror_mode": {
    "name": "ipython",
    "version": 3
   },
   "file_extension": ".py",
   "mimetype": "text/x-python",
   "name": "python",
   "nbconvert_exporter": "python",
   "pygments_lexer": "ipython3",
   "version": "3.11.9"
  }
 },
 "nbformat": 4,
 "nbformat_minor": 5
}
