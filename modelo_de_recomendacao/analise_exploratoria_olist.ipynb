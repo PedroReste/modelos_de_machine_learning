{
 "cells": [
  {
   "cell_type": "code",
   "execution_count": 115,
   "id": "5afc279e",
   "metadata": {},
   "outputs": [],
   "source": [
    "import pandas as pd"
   ]
  },
  {
   "cell_type": "code",
   "execution_count": null,
   "id": "5c8ea70d",
   "metadata": {},
   "outputs": [],
   "source": [
    "olist_customers = pd.read_csv(\"olist_customers_dataset.csv\", sep=\",\", usecols=['customer_id', 'customer_unique_id'])\n",
    "olist_orders = pd.read_csv(\"olist_orders_dataset.csv\", sep=\",\", usecols=['customer_id', 'order_id', 'order_status', 'order_purchase_timestamp'])\n",
    "olist_order_reviews = pd.read_csv(\"olist_order_reviews_dataset.csv\", sep=\",\", usecols=['order_id', 'review_score'])\n",
    "olist_order_items = pd.read_csv(\"olist_order_items_dataset.csv\", sep=\",\", usecols=['order_id', 'product_id'])"
   ]
  },
  {
   "cell_type": "markdown",
   "id": "3d316562",
   "metadata": {},
   "source": [
    "# Verificando a volumetria de pedidos e produtos de cada pedido"
   ]
  },
  {
   "cell_type": "markdown",
   "id": "2e7b89b5",
   "metadata": {},
   "source": [
    "Dentro da base de \"olist_order_items\", contém o order_ir e o product_id de cada compra.\n",
    "\n",
    "Abaixo é uma verificação para entender quais produtos tinham dentro de um pedidos e se eram diferentes.\n",
    "\n",
    "Isso ajudará entender se é possível usar essa base para gerar o modelo de recomendação de produtos."
   ]
  },
  {
   "cell_type": "code",
   "execution_count": 117,
   "id": "6fb37595",
   "metadata": {},
   "outputs": [],
   "source": [
    "produtos = olist_order_items.groupby('order_id').agg(total=('product_id','count'),\n",
    "                                          distinto=('product_id','nunique'))\n",
    "produtos.reset_index(inplace=True)"
   ]
  },
  {
   "cell_type": "code",
   "execution_count": 118,
   "id": "2102b403",
   "metadata": {},
   "outputs": [
    {
     "data": {
      "text/html": [
       "<div>\n",
       "<style scoped>\n",
       "    .dataframe tbody tr th:only-of-type {\n",
       "        vertical-align: middle;\n",
       "    }\n",
       "\n",
       "    .dataframe tbody tr th {\n",
       "        vertical-align: top;\n",
       "    }\n",
       "\n",
       "    .dataframe thead th {\n",
       "        text-align: right;\n",
       "    }\n",
       "</style>\n",
       "<table border=\"1\" class=\"dataframe\">\n",
       "  <thead>\n",
       "    <tr style=\"text-align: right;\">\n",
       "      <th></th>\n",
       "      <th>volumetria_pedidos</th>\n",
       "      <th>volumetria_pedidos_perc</th>\n",
       "    </tr>\n",
       "    <tr>\n",
       "      <th>total</th>\n",
       "      <th></th>\n",
       "      <th></th>\n",
       "    </tr>\n",
       "  </thead>\n",
       "  <tbody>\n",
       "    <tr>\n",
       "      <th>1</th>\n",
       "      <td>88863</td>\n",
       "      <td>90.06</td>\n",
       "    </tr>\n",
       "    <tr>\n",
       "      <th>2</th>\n",
       "      <td>7516</td>\n",
       "      <td>7.62</td>\n",
       "    </tr>\n",
       "    <tr>\n",
       "      <th>3</th>\n",
       "      <td>1322</td>\n",
       "      <td>1.34</td>\n",
       "    </tr>\n",
       "    <tr>\n",
       "      <th>4</th>\n",
       "      <td>505</td>\n",
       "      <td>0.51</td>\n",
       "    </tr>\n",
       "    <tr>\n",
       "      <th>5</th>\n",
       "      <td>204</td>\n",
       "      <td>0.21</td>\n",
       "    </tr>\n",
       "  </tbody>\n",
       "</table>\n",
       "</div>"
      ],
      "text/plain": [
       "       volumetria_pedidos  volumetria_pedidos_perc\n",
       "total                                             \n",
       "1                   88863                    90.06\n",
       "2                    7516                     7.62\n",
       "3                    1322                     1.34\n",
       "4                     505                     0.51\n",
       "5                     204                     0.21"
      ]
     },
     "execution_count": 118,
     "metadata": {},
     "output_type": "execute_result"
    }
   ],
   "source": [
    "produtos_df = pd.DataFrame({\n",
    "    'volumetria_pedidos':produtos['total'].value_counts(),\n",
    "    'volumetria_pedidos_perc':(produtos['total'].value_counts(normalize=True)*100).round(2),\n",
    "})\n",
    "produtos_df.head()"
   ]
  },
  {
   "cell_type": "code",
   "execution_count": 119,
   "id": "803ec04a",
   "metadata": {},
   "outputs": [
    {
     "data": {
      "text/html": [
       "<div>\n",
       "<style scoped>\n",
       "    .dataframe tbody tr th:only-of-type {\n",
       "        vertical-align: middle;\n",
       "    }\n",
       "\n",
       "    .dataframe tbody tr th {\n",
       "        vertical-align: top;\n",
       "    }\n",
       "\n",
       "    .dataframe thead th {\n",
       "        text-align: right;\n",
       "    }\n",
       "</style>\n",
       "<table border=\"1\" class=\"dataframe\">\n",
       "  <thead>\n",
       "    <tr style=\"text-align: right;\">\n",
       "      <th></th>\n",
       "      <th>volumetria_disintos</th>\n",
       "      <th>volumetria_disintos_perc</th>\n",
       "    </tr>\n",
       "    <tr>\n",
       "      <th>distinto</th>\n",
       "      <th></th>\n",
       "      <th></th>\n",
       "    </tr>\n",
       "  </thead>\n",
       "  <tbody>\n",
       "    <tr>\n",
       "      <th>1</th>\n",
       "      <td>95430</td>\n",
       "      <td>96.72</td>\n",
       "    </tr>\n",
       "    <tr>\n",
       "      <th>2</th>\n",
       "      <td>2846</td>\n",
       "      <td>2.88</td>\n",
       "    </tr>\n",
       "    <tr>\n",
       "      <th>3</th>\n",
       "      <td>298</td>\n",
       "      <td>0.30</td>\n",
       "    </tr>\n",
       "    <tr>\n",
       "      <th>4</th>\n",
       "      <td>70</td>\n",
       "      <td>0.07</td>\n",
       "    </tr>\n",
       "    <tr>\n",
       "      <th>6</th>\n",
       "      <td>10</td>\n",
       "      <td>0.01</td>\n",
       "    </tr>\n",
       "  </tbody>\n",
       "</table>\n",
       "</div>"
      ],
      "text/plain": [
       "          volumetria_disintos  volumetria_disintos_perc\n",
       "distinto                                               \n",
       "1                       95430                     96.72\n",
       "2                        2846                      2.88\n",
       "3                         298                      0.30\n",
       "4                          70                      0.07\n",
       "6                          10                      0.01"
      ]
     },
     "execution_count": 119,
     "metadata": {},
     "output_type": "execute_result"
    }
   ],
   "source": [
    "produtos_df = pd.DataFrame({\n",
    "    'volumetria_disintos':produtos['distinto'].value_counts(),\n",
    "    'volumetria_disintos_perc':(produtos['distinto'].value_counts(normalize=True)*100).round(2),\n",
    "})\n",
    "produtos_df.head()"
   ]
  },
  {
   "cell_type": "markdown",
   "id": "c92de28c",
   "metadata": {},
   "source": [
    "90% da base consiste em pedidos feitos que contém apenas um produto e 7% que contém 2 produtos.\n",
    "\n",
    "96% dos pedidos tem o mesmo produto enquanto 4% possuiam produtos diferentes."
   ]
  },
  {
   "cell_type": "code",
   "execution_count": 120,
   "id": "47525b29",
   "metadata": {},
   "outputs": [],
   "source": [
    "lista_de_pedidos_com_unico_produto = produtos[produtos['distinto'] == 1]['order_id']"
   ]
  },
  {
   "cell_type": "markdown",
   "id": "c60ce2ca",
   "metadata": {},
   "source": [
    "Como 96% da base consiste em pedidos com o mesmo produto, será possível utilizar o order_id como uma proxy para o produto, já que as bases da olist não possuem a avalição feita por produto, mas apenas por pedido."
   ]
  },
  {
   "cell_type": "markdown",
   "id": "a7435c77",
   "metadata": {},
   "source": [
    "# Verificando a volumetria de notas para cada pedido"
   ]
  },
  {
   "cell_type": "code",
   "execution_count": 121,
   "id": "37397e41",
   "metadata": {},
   "outputs": [
    {
     "data": {
      "text/plain": [
       "(95430, 99441)"
      ]
     },
     "execution_count": 121,
     "metadata": {},
     "output_type": "execute_result"
    }
   ],
   "source": [
    "#Filtrando os order_id que estão dentro da lista de pedidos com único tipo de produto\n",
    "df_produtos = olist_orders[olist_orders['order_id'].isin(lista_de_pedidos_com_unico_produto)]\n",
    "\n",
    "#Comparando a qtd de linhas\n",
    "df_produtos.shape[0], olist_orders.shape[0]"
   ]
  },
  {
   "cell_type": "markdown",
   "id": "967c830f",
   "metadata": {},
   "source": [
    "<span style=\"font-size:24px\">**Filtro de Dados Utilizados no Modelo de Recomendação**</span>\n",
    "\n",
    "Filtrando a base apenas pelos pedidos entregues para evitar qualquer ruído que possa gerar de outros status que possam ter avaliações indevidas aos produtos."
   ]
  },
  {
   "cell_type": "code",
   "execution_count": 122,
   "id": "2e8bf0ea",
   "metadata": {},
   "outputs": [],
   "source": [
    "df_produtos = df_produtos[df_produtos['order_status'] == 'delivered'][['customer_id', 'order_id']]"
   ]
  },
  {
   "cell_type": "markdown",
   "id": "76e5037b",
   "metadata": {},
   "source": [
    "Na base de Usuários da Olist (olist_customers) existem dois ids de usuários um único e outro não, vamos cruzar essa base com a de pedidos apenas para utilizar o id único no modelo no futuro."
   ]
  },
  {
   "cell_type": "code",
   "execution_count": 123,
   "id": "87525d62",
   "metadata": {},
   "outputs": [
    {
     "data": {
      "text/html": [
       "<div>\n",
       "<style scoped>\n",
       "    .dataframe tbody tr th:only-of-type {\n",
       "        vertical-align: middle;\n",
       "    }\n",
       "\n",
       "    .dataframe tbody tr th {\n",
       "        vertical-align: top;\n",
       "    }\n",
       "\n",
       "    .dataframe thead th {\n",
       "        text-align: right;\n",
       "    }\n",
       "</style>\n",
       "<table border=\"1\" class=\"dataframe\">\n",
       "  <thead>\n",
       "    <tr style=\"text-align: right;\">\n",
       "      <th></th>\n",
       "      <th>order_id</th>\n",
       "      <th>customer_unique_id</th>\n",
       "      <th>review_score</th>\n",
       "    </tr>\n",
       "  </thead>\n",
       "  <tbody>\n",
       "    <tr>\n",
       "      <th>0</th>\n",
       "      <td>e481f51cbdc54678b7cc49136f2d6af7</td>\n",
       "      <td>7c396fd4830fd04220f754e42b4e5bff</td>\n",
       "      <td>4.0</td>\n",
       "    </tr>\n",
       "    <tr>\n",
       "      <th>1</th>\n",
       "      <td>53cdb2fc8bc7dce0b6741e2150273451</td>\n",
       "      <td>af07308b275d755c9edb36a90c618231</td>\n",
       "      <td>4.0</td>\n",
       "    </tr>\n",
       "    <tr>\n",
       "      <th>2</th>\n",
       "      <td>47770eb9100c2d0c44946d9cf07ec65d</td>\n",
       "      <td>3a653a41f6f9fc3d2a113cf8398680e8</td>\n",
       "      <td>5.0</td>\n",
       "    </tr>\n",
       "    <tr>\n",
       "      <th>3</th>\n",
       "      <td>949d5b44dbf5de918fe9c16f97b45f8a</td>\n",
       "      <td>7c142cf63193a1473d2e66489a9ae977</td>\n",
       "      <td>5.0</td>\n",
       "    </tr>\n",
       "    <tr>\n",
       "      <th>4</th>\n",
       "      <td>ad21c59c0840e6cb83a9ceb5573f8159</td>\n",
       "      <td>72632f0f9dd73dfee390c9b22eb56dd6</td>\n",
       "      <td>5.0</td>\n",
       "    </tr>\n",
       "  </tbody>\n",
       "</table>\n",
       "</div>"
      ],
      "text/plain": [
       "                           order_id                customer_unique_id  \\\n",
       "0  e481f51cbdc54678b7cc49136f2d6af7  7c396fd4830fd04220f754e42b4e5bff   \n",
       "1  53cdb2fc8bc7dce0b6741e2150273451  af07308b275d755c9edb36a90c618231   \n",
       "2  47770eb9100c2d0c44946d9cf07ec65d  3a653a41f6f9fc3d2a113cf8398680e8   \n",
       "3  949d5b44dbf5de918fe9c16f97b45f8a  7c142cf63193a1473d2e66489a9ae977   \n",
       "4  ad21c59c0840e6cb83a9ceb5573f8159  72632f0f9dd73dfee390c9b22eb56dd6   \n",
       "\n",
       "   review_score  \n",
       "0           4.0  \n",
       "1           4.0  \n",
       "2           5.0  \n",
       "3           5.0  \n",
       "4           5.0  "
      ]
     },
     "execution_count": 123,
     "metadata": {},
     "output_type": "execute_result"
    }
   ],
   "source": [
    "#Cruzamentos\n",
    "df_produtos_avaliacoes = df_produtos.merge(olist_customers, on=\"customer_id\", how=\"inner\") \\\n",
    "    .merge(olist_order_reviews, on=\"order_id\", how='left')\n",
    "df_produtos_avaliacoes.drop(columns='customer_id', inplace=True)\n",
    "df_produtos_avaliacoes.head()"
   ]
  },
  {
   "cell_type": "code",
   "execution_count": 124,
   "id": "5fb54e9b",
   "metadata": {},
   "outputs": [
    {
     "data": {
      "text/plain": [
       "order_id  customer_unique_id  review_score\n",
       "False     False               False           93163\n",
       "                              True              608\n",
       "Name: count, dtype: int64"
      ]
     },
     "execution_count": 124,
     "metadata": {},
     "output_type": "execute_result"
    }
   ],
   "source": [
    "# Verificando se há valores vazios\n",
    "df_produtos_avaliacoes.isna().value_counts()"
   ]
  },
  {
   "cell_type": "code",
   "execution_count": 125,
   "id": "44b8ba61",
   "metadata": {},
   "outputs": [],
   "source": [
    "#Filtrando os pedidos que estão sem avaliações\n",
    "df_produtos_avaliacoes.dropna(subset=['review_score'], inplace=True)"
   ]
  },
  {
   "cell_type": "code",
   "execution_count": 126,
   "id": "99a76751",
   "metadata": {},
   "outputs": [],
   "source": [
    "# Renomeando o nome das colunas\n",
    "df_produtos_avaliacoes.rename(columns={\n",
    "    'customer_unique_id':'user_id',\n",
    "    'order_id':'product_id',\n",
    "    'review_score':'rating'\n",
    "}, inplace=True)"
   ]
  },
  {
   "cell_type": "code",
   "execution_count": 127,
   "id": "9147bbca",
   "metadata": {},
   "outputs": [
    {
     "data": {
      "text/html": [
       "<div>\n",
       "<style scoped>\n",
       "    .dataframe tbody tr th:only-of-type {\n",
       "        vertical-align: middle;\n",
       "    }\n",
       "\n",
       "    .dataframe tbody tr th {\n",
       "        vertical-align: top;\n",
       "    }\n",
       "\n",
       "    .dataframe thead th {\n",
       "        text-align: right;\n",
       "    }\n",
       "</style>\n",
       "<table border=\"1\" class=\"dataframe\">\n",
       "  <thead>\n",
       "    <tr style=\"text-align: right;\">\n",
       "      <th></th>\n",
       "      <th>qtd_avaliacoes</th>\n",
       "      <th>qtd_usuarios</th>\n",
       "      <th>qtd_usuarios_perct</th>\n",
       "    </tr>\n",
       "  </thead>\n",
       "  <tbody>\n",
       "    <tr>\n",
       "      <th>0</th>\n",
       "      <td>1</td>\n",
       "      <td>87323</td>\n",
       "      <td>97.11</td>\n",
       "    </tr>\n",
       "    <tr>\n",
       "      <th>1</th>\n",
       "      <td>2</td>\n",
       "      <td>2154</td>\n",
       "      <td>2.40</td>\n",
       "    </tr>\n",
       "    <tr>\n",
       "      <th>2</th>\n",
       "      <td>3</td>\n",
       "      <td>310</td>\n",
       "      <td>0.34</td>\n",
       "    </tr>\n",
       "    <tr>\n",
       "      <th>3</th>\n",
       "      <td>4</td>\n",
       "      <td>101</td>\n",
       "      <td>0.11</td>\n",
       "    </tr>\n",
       "    <tr>\n",
       "      <th>4</th>\n",
       "      <td>5</td>\n",
       "      <td>22</td>\n",
       "      <td>0.02</td>\n",
       "    </tr>\n",
       "    <tr>\n",
       "      <th>5</th>\n",
       "      <td>6</td>\n",
       "      <td>11</td>\n",
       "      <td>0.01</td>\n",
       "    </tr>\n",
       "    <tr>\n",
       "      <th>6</th>\n",
       "      <td>7</td>\n",
       "      <td>1</td>\n",
       "      <td>0.00</td>\n",
       "    </tr>\n",
       "    <tr>\n",
       "      <th>7</th>\n",
       "      <td>15</td>\n",
       "      <td>1</td>\n",
       "      <td>0.00</td>\n",
       "    </tr>\n",
       "  </tbody>\n",
       "</table>\n",
       "</div>"
      ],
      "text/plain": [
       "   qtd_avaliacoes  qtd_usuarios  qtd_usuarios_perct\n",
       "0               1         87323               97.11\n",
       "1               2          2154                2.40\n",
       "2               3           310                0.34\n",
       "3               4           101                0.11\n",
       "4               5            22                0.02\n",
       "5               6            11                0.01\n",
       "6               7             1                0.00\n",
       "7              15             1                0.00"
      ]
     },
     "execution_count": 127,
     "metadata": {},
     "output_type": "execute_result"
    }
   ],
   "source": [
    "#Comparando a quantidade de usuários e comparação a quantidade de avalições feitas\n",
    "avaliacoes_por_user_id = df_produtos_avaliacoes['user_id'].value_counts()\n",
    "usuarios_por_qtd_avaliacoes = avaliacoes_por_user_id.value_counts().sort_index()\n",
    "usuarios_por_qtd_avaliacoes_df = pd.DataFrame({\n",
    "    'qtd_avaliacoes': usuarios_por_qtd_avaliacoes.index,\n",
    "    'qtd_usuarios': usuarios_por_qtd_avaliacoes.values,\n",
    "    'qtd_usuarios_perct':((usuarios_por_qtd_avaliacoes.values / usuarios_por_qtd_avaliacoes.values.sum()) * 100).round(2)\n",
    "})\n",
    "usuarios_por_qtd_avaliacoes_df"
   ]
  },
  {
   "cell_type": "code",
   "execution_count": 128,
   "id": "34d14275",
   "metadata": {},
   "outputs": [
    {
     "data": {
      "text/html": [
       "<div>\n",
       "<style scoped>\n",
       "    .dataframe tbody tr th:only-of-type {\n",
       "        vertical-align: middle;\n",
       "    }\n",
       "\n",
       "    .dataframe tbody tr th {\n",
       "        vertical-align: top;\n",
       "    }\n",
       "\n",
       "    .dataframe thead th {\n",
       "        text-align: right;\n",
       "    }\n",
       "</style>\n",
       "<table border=\"1\" class=\"dataframe\">\n",
       "  <thead>\n",
       "    <tr style=\"text-align: right;\">\n",
       "      <th></th>\n",
       "      <th>product_id</th>\n",
       "      <th>user_id</th>\n",
       "      <th>rating</th>\n",
       "    </tr>\n",
       "  </thead>\n",
       "  <tbody>\n",
       "    <tr>\n",
       "      <th>0</th>\n",
       "      <td>e481f51cbdc54678b7cc49136f2d6af7</td>\n",
       "      <td>7c396fd4830fd04220f754e42b4e5bff</td>\n",
       "      <td>4.0</td>\n",
       "    </tr>\n",
       "    <tr>\n",
       "      <th>1</th>\n",
       "      <td>53cdb2fc8bc7dce0b6741e2150273451</td>\n",
       "      <td>af07308b275d755c9edb36a90c618231</td>\n",
       "      <td>4.0</td>\n",
       "    </tr>\n",
       "    <tr>\n",
       "      <th>2</th>\n",
       "      <td>47770eb9100c2d0c44946d9cf07ec65d</td>\n",
       "      <td>3a653a41f6f9fc3d2a113cf8398680e8</td>\n",
       "      <td>5.0</td>\n",
       "    </tr>\n",
       "    <tr>\n",
       "      <th>3</th>\n",
       "      <td>949d5b44dbf5de918fe9c16f97b45f8a</td>\n",
       "      <td>7c142cf63193a1473d2e66489a9ae977</td>\n",
       "      <td>5.0</td>\n",
       "    </tr>\n",
       "    <tr>\n",
       "      <th>4</th>\n",
       "      <td>ad21c59c0840e6cb83a9ceb5573f8159</td>\n",
       "      <td>72632f0f9dd73dfee390c9b22eb56dd6</td>\n",
       "      <td>5.0</td>\n",
       "    </tr>\n",
       "  </tbody>\n",
       "</table>\n",
       "</div>"
      ],
      "text/plain": [
       "                         product_id                           user_id  rating\n",
       "0  e481f51cbdc54678b7cc49136f2d6af7  7c396fd4830fd04220f754e42b4e5bff     4.0\n",
       "1  53cdb2fc8bc7dce0b6741e2150273451  af07308b275d755c9edb36a90c618231     4.0\n",
       "2  47770eb9100c2d0c44946d9cf07ec65d  3a653a41f6f9fc3d2a113cf8398680e8     5.0\n",
       "3  949d5b44dbf5de918fe9c16f97b45f8a  7c142cf63193a1473d2e66489a9ae977     5.0\n",
       "4  ad21c59c0840e6cb83a9ceb5573f8159  72632f0f9dd73dfee390c9b22eb56dd6     5.0"
      ]
     },
     "execution_count": 128,
     "metadata": {},
     "output_type": "execute_result"
    }
   ],
   "source": [
    "df_produtos_avaliacoes.head()"
   ]
  },
  {
   "cell_type": "code",
   "execution_count": 129,
   "id": "db079b5d",
   "metadata": {},
   "outputs": [
    {
     "data": {
      "text/html": [
       "<div>\n",
       "<style scoped>\n",
       "    .dataframe tbody tr th:only-of-type {\n",
       "        vertical-align: middle;\n",
       "    }\n",
       "\n",
       "    .dataframe tbody tr th {\n",
       "        vertical-align: top;\n",
       "    }\n",
       "\n",
       "    .dataframe thead th {\n",
       "        text-align: right;\n",
       "    }\n",
       "</style>\n",
       "<table border=\"1\" class=\"dataframe\">\n",
       "  <thead>\n",
       "    <tr style=\"text-align: right;\">\n",
       "      <th></th>\n",
       "      <th>user_id</th>\n",
       "      <th>pedidos</th>\n",
       "      <th>avaliacoes</th>\n",
       "      <th>avaliacoes_avg</th>\n",
       "    </tr>\n",
       "  </thead>\n",
       "  <tbody>\n",
       "    <tr>\n",
       "      <th>0</th>\n",
       "      <td>0000366f3b9a7992bf8c76cfdf3221e2</td>\n",
       "      <td>1</td>\n",
       "      <td>1</td>\n",
       "      <td>5.0</td>\n",
       "    </tr>\n",
       "    <tr>\n",
       "      <th>1</th>\n",
       "      <td>0000b849f77a49e4a4ce2b2a4ca5be3f</td>\n",
       "      <td>1</td>\n",
       "      <td>1</td>\n",
       "      <td>4.0</td>\n",
       "    </tr>\n",
       "    <tr>\n",
       "      <th>2</th>\n",
       "      <td>0000f46a3911fa3c0805444483337064</td>\n",
       "      <td>1</td>\n",
       "      <td>1</td>\n",
       "      <td>3.0</td>\n",
       "    </tr>\n",
       "    <tr>\n",
       "      <th>3</th>\n",
       "      <td>0000f6ccb0745a6a4b88665a16c9f078</td>\n",
       "      <td>1</td>\n",
       "      <td>1</td>\n",
       "      <td>4.0</td>\n",
       "    </tr>\n",
       "    <tr>\n",
       "      <th>4</th>\n",
       "      <td>0004aac84e0df4da2b147fca70cf8255</td>\n",
       "      <td>1</td>\n",
       "      <td>1</td>\n",
       "      <td>5.0</td>\n",
       "    </tr>\n",
       "    <tr>\n",
       "      <th>...</th>\n",
       "      <td>...</td>\n",
       "      <td>...</td>\n",
       "      <td>...</td>\n",
       "      <td>...</td>\n",
       "    </tr>\n",
       "    <tr>\n",
       "      <th>89918</th>\n",
       "      <td>fffbf87b7a1a6fa8b03f081c5f51a201</td>\n",
       "      <td>1</td>\n",
       "      <td>1</td>\n",
       "      <td>5.0</td>\n",
       "    </tr>\n",
       "    <tr>\n",
       "      <th>89919</th>\n",
       "      <td>fffea47cd6d3cc0a88bd621562a9d061</td>\n",
       "      <td>1</td>\n",
       "      <td>1</td>\n",
       "      <td>4.0</td>\n",
       "    </tr>\n",
       "    <tr>\n",
       "      <th>89920</th>\n",
       "      <td>ffff371b4d645b6ecea244b27531430a</td>\n",
       "      <td>1</td>\n",
       "      <td>1</td>\n",
       "      <td>5.0</td>\n",
       "    </tr>\n",
       "    <tr>\n",
       "      <th>89921</th>\n",
       "      <td>ffff5962728ec6157033ef9805bacc48</td>\n",
       "      <td>1</td>\n",
       "      <td>1</td>\n",
       "      <td>5.0</td>\n",
       "    </tr>\n",
       "    <tr>\n",
       "      <th>89922</th>\n",
       "      <td>ffffd2657e2aad2907e67c3e9daecbeb</td>\n",
       "      <td>1</td>\n",
       "      <td>1</td>\n",
       "      <td>5.0</td>\n",
       "    </tr>\n",
       "  </tbody>\n",
       "</table>\n",
       "<p>89923 rows × 4 columns</p>\n",
       "</div>"
      ],
      "text/plain": [
       "                                user_id  pedidos  avaliacoes  avaliacoes_avg\n",
       "0      0000366f3b9a7992bf8c76cfdf3221e2        1           1             5.0\n",
       "1      0000b849f77a49e4a4ce2b2a4ca5be3f        1           1             4.0\n",
       "2      0000f46a3911fa3c0805444483337064        1           1             3.0\n",
       "3      0000f6ccb0745a6a4b88665a16c9f078        1           1             4.0\n",
       "4      0004aac84e0df4da2b147fca70cf8255        1           1             5.0\n",
       "...                                 ...      ...         ...             ...\n",
       "89918  fffbf87b7a1a6fa8b03f081c5f51a201        1           1             5.0\n",
       "89919  fffea47cd6d3cc0a88bd621562a9d061        1           1             4.0\n",
       "89920  ffff371b4d645b6ecea244b27531430a        1           1             5.0\n",
       "89921  ffff5962728ec6157033ef9805bacc48        1           1             5.0\n",
       "89922  ffffd2657e2aad2907e67c3e9daecbeb        1           1             5.0\n",
       "\n",
       "[89923 rows x 4 columns]"
      ]
     },
     "execution_count": 129,
     "metadata": {},
     "output_type": "execute_result"
    }
   ],
   "source": [
    "usuarios = df_produtos_avaliacoes.groupby('user_id').agg(pedidos=('product_id','count'),\n",
    "                                          avaliacoes=('rating','count'),\n",
    "                                          avaliacoes_avg=('rating','mean'))\n",
    "usuarios.reset_index(inplace=True)\n",
    "usuarios"
   ]
  },
  {
   "cell_type": "code",
   "execution_count": 130,
   "id": "fbd34530",
   "metadata": {},
   "outputs": [
    {
     "data": {
      "text/html": [
       "<div>\n",
       "<style scoped>\n",
       "    .dataframe tbody tr th:only-of-type {\n",
       "        vertical-align: middle;\n",
       "    }\n",
       "\n",
       "    .dataframe tbody tr th {\n",
       "        vertical-align: top;\n",
       "    }\n",
       "\n",
       "    .dataframe thead th {\n",
       "        text-align: right;\n",
       "    }\n",
       "</style>\n",
       "<table border=\"1\" class=\"dataframe\">\n",
       "  <thead>\n",
       "    <tr style=\"text-align: right;\">\n",
       "      <th></th>\n",
       "      <th>volumetria_usuarios</th>\n",
       "      <th>volumetria_usuarios_perc</th>\n",
       "    </tr>\n",
       "    <tr>\n",
       "      <th>pedidos</th>\n",
       "      <th></th>\n",
       "      <th></th>\n",
       "    </tr>\n",
       "  </thead>\n",
       "  <tbody>\n",
       "    <tr>\n",
       "      <th>1</th>\n",
       "      <td>87323</td>\n",
       "      <td>97.11</td>\n",
       "    </tr>\n",
       "    <tr>\n",
       "      <th>2</th>\n",
       "      <td>2154</td>\n",
       "      <td>2.40</td>\n",
       "    </tr>\n",
       "    <tr>\n",
       "      <th>3</th>\n",
       "      <td>310</td>\n",
       "      <td>0.34</td>\n",
       "    </tr>\n",
       "    <tr>\n",
       "      <th>4</th>\n",
       "      <td>101</td>\n",
       "      <td>0.11</td>\n",
       "    </tr>\n",
       "    <tr>\n",
       "      <th>5</th>\n",
       "      <td>22</td>\n",
       "      <td>0.02</td>\n",
       "    </tr>\n",
       "  </tbody>\n",
       "</table>\n",
       "</div>"
      ],
      "text/plain": [
       "         volumetria_usuarios  volumetria_usuarios_perc\n",
       "pedidos                                               \n",
       "1                      87323                     97.11\n",
       "2                       2154                      2.40\n",
       "3                        310                      0.34\n",
       "4                        101                      0.11\n",
       "5                         22                      0.02"
      ]
     },
     "execution_count": 130,
     "metadata": {},
     "output_type": "execute_result"
    }
   ],
   "source": [
    "usuarios_df = pd.DataFrame({\n",
    "    'volumetria_usuarios':usuarios['pedidos'].value_counts(),\n",
    "    'volumetria_usuarios_perc':(usuarios['pedidos'].value_counts(normalize=True)*100).round(2)\n",
    "})\n",
    "usuarios_df.head()"
   ]
  },
  {
   "cell_type": "code",
   "execution_count": 131,
   "id": "cc8c3266",
   "metadata": {},
   "outputs": [
    {
     "data": {
      "text/html": [
       "<div>\n",
       "<style scoped>\n",
       "    .dataframe tbody tr th:only-of-type {\n",
       "        vertical-align: middle;\n",
       "    }\n",
       "\n",
       "    .dataframe tbody tr th {\n",
       "        vertical-align: top;\n",
       "    }\n",
       "\n",
       "    .dataframe thead th {\n",
       "        text-align: right;\n",
       "    }\n",
       "</style>\n",
       "<table border=\"1\" class=\"dataframe\">\n",
       "  <thead>\n",
       "    <tr style=\"text-align: right;\">\n",
       "      <th></th>\n",
       "      <th>volumetria_usuarios</th>\n",
       "      <th>volumetria_usuarios_perc</th>\n",
       "    </tr>\n",
       "    <tr>\n",
       "      <th>avaliacoes_avg</th>\n",
       "      <th></th>\n",
       "      <th></th>\n",
       "    </tr>\n",
       "  </thead>\n",
       "  <tbody>\n",
       "    <tr>\n",
       "      <th>5.0</th>\n",
       "      <td>53346</td>\n",
       "      <td>59.32</td>\n",
       "    </tr>\n",
       "    <tr>\n",
       "      <th>4.0</th>\n",
       "      <td>17830</td>\n",
       "      <td>19.83</td>\n",
       "    </tr>\n",
       "    <tr>\n",
       "      <th>1.0</th>\n",
       "      <td>8154</td>\n",
       "      <td>9.07</td>\n",
       "    </tr>\n",
       "    <tr>\n",
       "      <th>3.0</th>\n",
       "      <td>7369</td>\n",
       "      <td>8.19</td>\n",
       "    </tr>\n",
       "    <tr>\n",
       "      <th>2.0</th>\n",
       "      <td>2609</td>\n",
       "      <td>2.90</td>\n",
       "    </tr>\n",
       "  </tbody>\n",
       "</table>\n",
       "</div>"
      ],
      "text/plain": [
       "                volumetria_usuarios  volumetria_usuarios_perc\n",
       "avaliacoes_avg                                               \n",
       "5.0                           53346                     59.32\n",
       "4.0                           17830                     19.83\n",
       "1.0                            8154                      9.07\n",
       "3.0                            7369                      8.19\n",
       "2.0                            2609                      2.90"
      ]
     },
     "execution_count": 131,
     "metadata": {},
     "output_type": "execute_result"
    }
   ],
   "source": [
    "usuarios_df = pd.DataFrame({\n",
    "    'volumetria_usuarios':usuarios['avaliacoes_avg'].value_counts(),\n",
    "    'volumetria_usuarios_perc':(usuarios['avaliacoes_avg'].value_counts(normalize=True)*100).round(2)\n",
    "})\n",
    "usuarios_df.head()"
   ]
  },
  {
   "cell_type": "markdown",
   "id": "2086ebb8",
   "metadata": {},
   "source": [
    "Na base de dados, aproximadamente 97% do usuários realizaram apenas um pedido no período.\n",
    "\n",
    "A maior parte dos usuários, em seus únicos pedidos entregues, deram notas altas para os produtos. Apenas aproximadamente 12% deram uma nota baixa (1 ou 2) e 8% deram uma nota mediana."
   ]
  },
  {
   "cell_type": "code",
   "execution_count": 132,
   "id": "e01fce2c",
   "metadata": {},
   "outputs": [],
   "source": [
    "df_produtos_avaliacoes['user_mean'] = df_produtos_avaliacoes.groupby('user_id')['rating'].transform('mean')\n",
    "df_produtos_avaliacoes['user_reviews_count'] = df_produtos_avaliacoes.groupby('user_id')['rating'].transform('count')\n",
    "df_produtos_avaliacoes['normalized_rating'] = df_produtos_avaliacoes['rating'] - df_produtos_avaliacoes['user_mean']"
   ]
  },
  {
   "cell_type": "markdown",
   "id": "555f2e59",
   "metadata": {},
   "source": [
    "Mesmo com 97% dos usuários tendo um pedido, vamos no modelo testar tanto o valor absoluto da média de notas quanto os valores normalizado."
   ]
  },
  {
   "cell_type": "code",
   "execution_count": 134,
   "id": "e9ba7a14",
   "metadata": {},
   "outputs": [],
   "source": [
    "df_produtos_avaliacoes.to_excel('df_produtos_avaliacoes.xlsx')"
   ]
  },
  {
   "cell_type": "markdown",
   "id": "6eae55cb",
   "metadata": {},
   "source": [
    "# Resumo da Análise Exploratória\n",
    "\n",
    "- 90% dos pedidos são conspostos de um único item e quando tem mais de um item.\n",
    "- 96% dos pedidos tem um único produto ou produtos iguais.\n",
    "- Possível utilziar o **order_id** como um proxy para o **product_id**, já que nas bases da Olist não há avaliações por produto, apenas por pedidos realizados.\n",
    "- 97% dos usuários realizaram apenas um pedido e o avaliaram.\n",
    "- Considerando uma escala de 1 a 5: aproximadamente 12% dos usuários deram uma nota baixa para o produto (1 ou 2), 8% deram uma nota mediana (3) e 80% deram uma nota alta (4 ou 5).\n",
    "- Mesmo com 97% dos usuários tendo um pedido, vamos no modelo testar tanto o valor absoluto da média de notas quanto os valores normalizado. "
   ]
  }
 ],
 "metadata": {
  "kernelspec": {
   "display_name": "Python 3",
   "language": "python",
   "name": "python3"
  },
  "language_info": {
   "codemirror_mode": {
    "name": "ipython",
    "version": 3
   },
   "file_extension": ".py",
   "mimetype": "text/x-python",
   "name": "python",
   "nbconvert_exporter": "python",
   "pygments_lexer": "ipython3",
   "version": "3.11.9"
  }
 },
 "nbformat": 4,
 "nbformat_minor": 5
}
