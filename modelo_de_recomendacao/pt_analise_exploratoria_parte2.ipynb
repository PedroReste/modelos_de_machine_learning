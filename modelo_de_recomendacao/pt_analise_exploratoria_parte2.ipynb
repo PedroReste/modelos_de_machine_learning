{
 "cells": [
  {
   "cell_type": "markdown",
   "id": "1eb4248d",
   "metadata": {},
   "source": [
    "# **Resumo da Análise Exploratória - Parte 02**\n",
    "A intenção inicial era utilizar o modelo SVD e similares para gerar um modelo de recomendação de produtos, mas como visto na parte 01 da análise exploratória, não existe realmente um histórico de pedidos e avaliações feitas pelos usuários. Para dar continuidade nesse modelo de recomendação, vamos deixar de lado a recomendação com base no histórico de pedidos e avaliações, e seguiremos com um modelo de recomendação com base em características existentes nas bases de dados."
   ]
  },
  {
   "cell_type": "code",
   "execution_count": 1,
   "id": "61bcfa53",
   "metadata": {},
   "outputs": [],
   "source": [
    "#Bibliotecas\n",
    "import pandas as pd"
   ]
  },
  {
   "cell_type": "code",
   "execution_count": 2,
   "id": "02e8c450",
   "metadata": {},
   "outputs": [],
   "source": [
    "#Datasets\n",
    "olist_customers = pd.read_csv(\"olist_customers_dataset.csv\", sep=\",\")\n",
    "olist_orders = pd.read_csv(\"olist_orders_dataset.csv\", sep=\",\", usecols=['order_id', 'customer_id', 'order_status'])\n",
    "olist_order_reviews = pd.read_csv(\"olist_order_reviews_dataset.csv\", sep=\",\", usecols=['order_id', 'review_score'])\n",
    "olist_order_items = pd.read_csv(\"olist_order_items_dataset.csv\", sep=\",\", usecols=['order_id', 'product_id', 'price', 'freight_value'])\n",
    "olist_products = pd.read_csv(\"olist_products_dataset.csv\", sep=\",\")"
   ]
  },
  {
   "cell_type": "markdown",
   "id": "782133d7",
   "metadata": {},
   "source": [
    "Agora vou fazer alguns filtros que foram feitos na parte 01 para ser reutilizado aqui, como filtrar pedidos que um único tipo de item, com status de entregue e que foram avalidados. Assim amenizando o volume do cruazmento dos dados."
   ]
  },
  {
   "cell_type": "code",
   "execution_count": 3,
   "id": "74b955de",
   "metadata": {},
   "outputs": [],
   "source": [
    "#Lista de produtos únicos nos pedidos\n",
    "produtos = olist_order_items.groupby('order_id').agg(total=('product_id','count'),\n",
    "                                          distinto=('product_id','nunique'))\n",
    "produtos.reset_index(inplace=True)\n",
    "lista_de_pedidos_com_unico_produto = produtos[produtos['distinto'] == 1]['order_id']"
   ]
  },
  {
   "cell_type": "code",
   "execution_count": 4,
   "id": "969cce52",
   "metadata": {},
   "outputs": [],
   "source": [
    "#Filtrando os order_id que estão dentro da lista de pedidos com único tipo de produto\n",
    "olist_orders = olist_orders[olist_orders['order_id'].isin(lista_de_pedidos_com_unico_produto)]\n",
    "\n",
    "#Filtrando os order_id que estão dentro da lista de produtos com único tipo de produto\n",
    "olist_order_items = olist_order_items[olist_order_items['order_id'].isin(lista_de_pedidos_com_unico_produto)]\n",
    "olist_order_items.drop_duplicates(subset='order_id', inplace=True)\n",
    "\n",
    "#Filtro de status de pedido como entregue e tirando essa coluna\n",
    "olist_orders = olist_orders[olist_orders['order_status'] == 'delivered']\n",
    "olist_orders.drop(columns='order_status', inplace=True)\n",
    "\n",
    "#Filtrando os pedidos que estão sem avaliações e com order_id duplicados\n",
    "olist_order_reviews.dropna(subset=['review_score'], inplace=True)\n",
    "olist_order_reviews.drop_duplicates(subset=\"order_id\", inplace=True)\n",
    "\n",
    "#Removendo a coluna de Zip Code da base de usuários\n",
    "olist_customers.drop(columns=\"customer_zip_code_prefix\", inplace=True)"
   ]
  },
  {
   "cell_type": "code",
   "execution_count": 5,
   "id": "53e54239",
   "metadata": {},
   "outputs": [],
   "source": [
    "#Cruzamentos\n",
    "dataset = olist_orders.merge(olist_customers, on=\"customer_id\", how=\"inner\") \\\n",
    "                      .merge(olist_order_items, on=\"order_id\", how=\"inner\") \\\n",
    "                      .merge(olist_products, on=\"product_id\", how=\"inner\") \\\n",
    "                      .merge(olist_order_reviews, on=\"order_id\", how=\"inner\")"
   ]
  },
  {
   "cell_type": "code",
   "execution_count": 6,
   "id": "795de910",
   "metadata": {},
   "outputs": [
    {
     "data": {
      "text/plain": [
       "(92673, 93281, 608)"
      ]
     },
     "execution_count": 6,
     "metadata": {},
     "output_type": "execute_result"
    }
   ],
   "source": [
    "#Comparando a qtd de linhas da base nova e da base de pedidos\n",
    "dataset.shape[0], olist_orders.shape[0], olist_orders.shape[0] - dataset.shape[0]"
   ]
  },
  {
   "cell_type": "code",
   "execution_count": 7,
   "id": "c90f4e82",
   "metadata": {},
   "outputs": [
    {
     "data": {
      "text/plain": [
       "order_id                         0\n",
       "customer_id                      0\n",
       "customer_unique_id               0\n",
       "customer_city                    0\n",
       "customer_state                   0\n",
       "product_id                       0\n",
       "price                            0\n",
       "freight_value                    0\n",
       "product_category_name         1317\n",
       "product_name_lenght           1317\n",
       "product_description_lenght    1317\n",
       "product_photos_qty            1317\n",
       "product_weight_g                16\n",
       "product_length_cm               16\n",
       "product_height_cm               16\n",
       "product_width_cm                16\n",
       "review_score                     0\n",
       "dtype: int64"
      ]
     },
     "execution_count": 7,
     "metadata": {},
     "output_type": "execute_result"
    }
   ],
   "source": [
    "#Verificando a quantidade de valores vazios\n",
    "dataset.isnull().sum()"
   ]
  },
  {
   "cell_type": "code",
   "execution_count": null,
   "id": "997eff37",
   "metadata": {},
   "outputs": [],
   "source": [
    "#Base para exportação\n",
    "dataset.to_excel('dataset.xlsx', index=False)"
   ]
  }
 ],
 "metadata": {
  "kernelspec": {
   "display_name": "Python 3",
   "language": "python",
   "name": "python3"
  },
  "language_info": {
   "codemirror_mode": {
    "name": "ipython",
    "version": 3
   },
   "file_extension": ".py",
   "mimetype": "text/x-python",
   "name": "python",
   "nbconvert_exporter": "python",
   "pygments_lexer": "ipython3",
   "version": "3.11.9"
  }
 },
 "nbformat": 4,
 "nbformat_minor": 5
}
