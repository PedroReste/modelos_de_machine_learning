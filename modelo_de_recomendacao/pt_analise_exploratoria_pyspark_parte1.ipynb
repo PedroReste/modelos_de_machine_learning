{
 "cells": [
  {
   "cell_type": "code",
   "execution_count": 36,
   "id": "3a4ad000",
   "metadata": {},
   "outputs": [],
   "source": [
    "from pyspark.sql import SparkSession\n",
    "from pyspark.sql.window import Window\n",
    "from pyspark.sql.functions import col, row_number, countDistinct, count, lit, round\n",
    "\n",
    "spark = SparkSession.builder.appName(\"session\").getOrCreate()\n",
    "spark.conf.set(\"spark.sql.adaptive.enabled\", \"true\") #Otimização dinâmicas"
   ]
  },
  {
   "cell_type": "markdown",
   "id": "9ba7a357",
   "metadata": {},
   "source": [
    "# Convertendo os arquivos de CSV para Parquet"
   ]
  },
  {
   "cell_type": "code",
   "execution_count": 4,
   "id": "af5d084d",
   "metadata": {},
   "outputs": [],
   "source": [
    "#Importando os arquivos em CSV com a função nativa do PySpark\n",
    "olist_customers = spark.read.option(\"header\", True).csv(\"olist_customers_dataset.csv\")\n",
    "olist_orders = spark.read.option(\"header\", True).csv(\"olist_orders_dataset.csv\")\n",
    "olist_order_reviews = spark.read.option(\"header\", True).csv(\"olist_order_reviews_dataset.csv\")\n",
    "olist_order_items = spark.read.option(\"header\", True).csv(\"olist_order_items_dataset.csv\")\n",
    "olist_products = spark.read.option(\"header\", True).csv(\"olist_products_dataset.csv\")"
   ]
  },
  {
   "cell_type": "code",
   "execution_count": 5,
   "id": "0fc306b2",
   "metadata": {},
   "outputs": [],
   "source": [
    "#Convertendo os dfs para Parquet\n",
    "olist_customers.write.mode(\"overwrite\").parquet(\"olist_customers_dataset.parquet\")\n",
    "olist_customers.write.mode(\"overwrite\").parquet(\"olist_customers_dataset.parquet\")\n",
    "olist_orders.write.mode(\"overwrite\").parquet(\"olist_orders_dataset.parquet\")\n",
    "olist_order_reviews.write.mode(\"overwrite\").parquet(\"olist_order_reviews_dataset.parquet\")\n",
    "olist_order_items.write.mode(\"overwrite\").parquet(\"olist_order_items_dataset.parquet\")\n",
    "olist_products.write.mode(\"overwrite\").parquet(\"olist_products_dataset.parquet\")"
   ]
  },
  {
   "cell_type": "code",
   "execution_count": 7,
   "id": "303e3c92",
   "metadata": {},
   "outputs": [],
   "source": [
    "#Importando novamente os dfs, mas com a versão em Parquet\n",
    "olist_customers = spark.read.option(\"header\", True).parquet(\"olist_customers_dataset.parquet\")\n",
    "olist_orders = spark.read.option(\"header\", True).parquet(\"olist_orders_dataset.parquet\")\n",
    "olist_order_reviews = spark.read.option(\"header\", True).parquet(\"olist_order_reviews_dataset.parquet\")\n",
    "olist_order_items = spark.read.option(\"header\", True).parquet(\"olist_order_items_dataset.parquet\")\n",
    "olist_products = spark.read.option(\"header\", True).parquet(\"olist_products_dataset.parquet\")"
   ]
  },
  {
   "cell_type": "markdown",
   "id": "cdfc7430",
   "metadata": {},
   "source": [
    "# Verificando a volumetria de pedidos e produtos de cada pedido"
   ]
  },
  {
   "cell_type": "code",
   "execution_count": 37,
   "id": "422ab62c",
   "metadata": {},
   "outputs": [],
   "source": [
    "produtos = olist_order_items.groupBy(\"order_id\").agg(\n",
    "    count(\"product_id\").alias(\"total\"),\n",
    "    countDistinct(\"product_id\").alias(\"distinto\")\n",
    ")"
   ]
  },
  {
   "cell_type": "code",
   "execution_count": 38,
   "id": "c6270ef8",
   "metadata": {},
   "outputs": [],
   "source": [
    "volumetria = produtos.groupBy(\"total\").agg(count(\"*\").alias(\"volumetria_pedidos\"))\n",
    "total_pedidos = volumetria.agg({\"volumetria_pedidos\": \"sum\"}).collect()[0][0]"
   ]
  },
  {
   "cell_type": "code",
   "execution_count": 39,
   "id": "2c571590",
   "metadata": {},
   "outputs": [
    {
     "name": "stdout",
     "output_type": "stream",
     "text": [
      "+-----+------------------+-----------------------+\n",
      "|total|volumetria_pedidos|volumetria_pedidos_perc|\n",
      "+-----+------------------+-----------------------+\n",
      "|    1|             88863|                  90.06|\n",
      "|    2|              7516|                   7.62|\n",
      "|    3|              1322|                   1.34|\n",
      "|    4|               505|                   0.51|\n",
      "|    5|               204|                   0.21|\n",
      "+-----+------------------+-----------------------+\n",
      "only showing top 5 rows\n",
      "\n"
     ]
    }
   ],
   "source": [
    "volumetria = volumetria.withColumn(\n",
    "    \"volumetria_pedidos_perc\",\n",
    "    round((col(\"volumetria_pedidos\") / lit(total_pedidos)) * 100, 2)\n",
    ")\n",
    "volumetria.orderBy(\"total\").show(5)"
   ]
  },
  {
   "cell_type": "code",
   "execution_count": 45,
   "id": "b71395e7",
   "metadata": {},
   "outputs": [
    {
     "name": "stdout",
     "output_type": "stream",
     "text": [
      "+-----+------------------+-----------------------+\n",
      "|total|volumetria_pedidos|volumetria_pedidos_perc|\n",
      "+-----+------------------+-----------------------+\n",
      "|1    |88863             |90.06                  |\n",
      "|2    |7516              |7.62                   |\n",
      "|3    |1322              |1.34                   |\n",
      "|4    |505               |0.51                   |\n",
      "|5    |204               |0.21                   |\n",
      "+-----+------------------+-----------------------+\n",
      "only showing top 5 rows\n",
      "\n"
     ]
    }
   ],
   "source": [
    "#Versão em SQL\n",
    "olist_order_items.createOrReplaceTempView(\"order_items\")\n",
    "\n",
    "spark.sql(\"\"\"\n",
    "    CREATE OR REPLACE TEMP VIEW produtos AS\n",
    "    SELECT \n",
    "        order_id,\n",
    "        COUNT(product_id) AS total,\n",
    "        COUNT(DISTINCT product_id) AS distinto\n",
    "    FROM order_items\n",
    "    GROUP BY order_id\n",
    "\"\"\")\n",
    "\n",
    "resultado = spark.sql(\"\"\"\n",
    "    SELECT \n",
    "        total,\n",
    "        COUNT(*) AS volumetria_pedidos,\n",
    "        ROUND(COUNT(*) * 100.0 / SUM(COUNT(*)) OVER (), 2) AS volumetria_pedidos_perc\n",
    "    FROM produtos\n",
    "    GROUP BY total\n",
    "    ORDER BY total\n",
    "\"\"\")\n",
    "\n",
    "resultado.show(5, truncate=False)"
   ]
  }
 ],
 "metadata": {
  "kernelspec": {
   "display_name": "Python 3",
   "language": "python",
   "name": "python3"
  },
  "language_info": {
   "codemirror_mode": {
    "name": "ipython",
    "version": 3
   },
   "file_extension": ".py",
   "mimetype": "text/x-python",
   "name": "python",
   "nbconvert_exporter": "python",
   "pygments_lexer": "ipython3",
   "version": "3.11.9"
  }
 },
 "nbformat": 4,
 "nbformat_minor": 5
}
