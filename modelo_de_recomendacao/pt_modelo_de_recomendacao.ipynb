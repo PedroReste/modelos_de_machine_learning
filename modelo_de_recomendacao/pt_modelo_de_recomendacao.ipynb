{
 "cells": [
  {
   "cell_type": "markdown",
   "id": "fa68531d",
   "metadata": {},
   "source": [
    "# **Modelo de Recomendação**\n",
    "Nesse notebok será trabalhado no modelo de recomendação de produtos com dados de usuários de Olist, que foram selecionados e gerados a partir do notebook **analise_exploratoria_olist.ipnyb** (recomendo a leitura). Além de treinarmos o modelo para recomendação, vamos validar sua qualidade de previsão, testar dados absolutos e normalizados, e alguns modelos para entender qual seria a melhor opção para essa base de dados.\n",
    "\n",
    "## **Resumo do Modelo**\n",
    "AAAAAAAAAAAAAAA"
   ]
  },
  {
   "cell_type": "code",
   "execution_count": 17,
   "id": "007413c3",
   "metadata": {},
   "outputs": [],
   "source": [
    "import random\n",
    "import pandas as pd\n",
    "from sklearn.preprocessing import StandardScaler, OneHotEncoder\n",
    "from sklearn.compose import ColumnTransformer\n",
    "from sklearn.ensemble import RandomForestClassifier\n",
    "from sklearn.model_selection import train_test_split\n",
    "from sklearn.pipeline import Pipeline"
   ]
  },
  {
   "cell_type": "code",
   "execution_count": 10,
   "id": "8ec195d2",
   "metadata": {},
   "outputs": [
    {
     "data": {
      "text/html": [
       "<div>\n",
       "<style scoped>\n",
       "    .dataframe tbody tr th:only-of-type {\n",
       "        vertical-align: middle;\n",
       "    }\n",
       "\n",
       "    .dataframe tbody tr th {\n",
       "        vertical-align: top;\n",
       "    }\n",
       "\n",
       "    .dataframe thead th {\n",
       "        text-align: right;\n",
       "    }\n",
       "</style>\n",
       "<table border=\"1\" class=\"dataframe\">\n",
       "  <thead>\n",
       "    <tr style=\"text-align: right;\">\n",
       "      <th></th>\n",
       "      <th>order_id</th>\n",
       "      <th>customer_id</th>\n",
       "      <th>customer_unique_id</th>\n",
       "      <th>customer_city</th>\n",
       "      <th>customer_state</th>\n",
       "      <th>product_id</th>\n",
       "      <th>price</th>\n",
       "      <th>freight_value</th>\n",
       "      <th>product_category_name</th>\n",
       "      <th>product_name_lenght</th>\n",
       "      <th>product_description_lenght</th>\n",
       "      <th>product_photos_qty</th>\n",
       "      <th>product_weight_g</th>\n",
       "      <th>product_length_cm</th>\n",
       "      <th>product_height_cm</th>\n",
       "      <th>product_width_cm</th>\n",
       "      <th>review_score</th>\n",
       "    </tr>\n",
       "  </thead>\n",
       "  <tbody>\n",
       "    <tr>\n",
       "      <th>0</th>\n",
       "      <td>e481f51cbdc54678b7cc49136f2d6af7</td>\n",
       "      <td>9ef432eb6251297304e76186b10a928d</td>\n",
       "      <td>7c396fd4830fd04220f754e42b4e5bff</td>\n",
       "      <td>sao paulo</td>\n",
       "      <td>SP</td>\n",
       "      <td>87285b34884572647811a353c7ac498a</td>\n",
       "      <td>29.99</td>\n",
       "      <td>8.72</td>\n",
       "      <td>utilidades_domesticas</td>\n",
       "      <td>40.0</td>\n",
       "      <td>268.0</td>\n",
       "      <td>4.0</td>\n",
       "      <td>500.0</td>\n",
       "      <td>19.0</td>\n",
       "      <td>8.0</td>\n",
       "      <td>13.0</td>\n",
       "      <td>4</td>\n",
       "    </tr>\n",
       "    <tr>\n",
       "      <th>1</th>\n",
       "      <td>53cdb2fc8bc7dce0b6741e2150273451</td>\n",
       "      <td>b0830fb4747a6c6d20dea0b8c802d7ef</td>\n",
       "      <td>af07308b275d755c9edb36a90c618231</td>\n",
       "      <td>barreiras</td>\n",
       "      <td>BA</td>\n",
       "      <td>595fac2a385ac33a80bd5114aec74eb8</td>\n",
       "      <td>118.70</td>\n",
       "      <td>22.76</td>\n",
       "      <td>perfumaria</td>\n",
       "      <td>29.0</td>\n",
       "      <td>178.0</td>\n",
       "      <td>1.0</td>\n",
       "      <td>400.0</td>\n",
       "      <td>19.0</td>\n",
       "      <td>13.0</td>\n",
       "      <td>19.0</td>\n",
       "      <td>4</td>\n",
       "    </tr>\n",
       "    <tr>\n",
       "      <th>2</th>\n",
       "      <td>47770eb9100c2d0c44946d9cf07ec65d</td>\n",
       "      <td>41ce2a54c0b03bf3443c3d931a367089</td>\n",
       "      <td>3a653a41f6f9fc3d2a113cf8398680e8</td>\n",
       "      <td>vianopolis</td>\n",
       "      <td>GO</td>\n",
       "      <td>aa4383b373c6aca5d8797843e5594415</td>\n",
       "      <td>159.90</td>\n",
       "      <td>19.22</td>\n",
       "      <td>automotivo</td>\n",
       "      <td>46.0</td>\n",
       "      <td>232.0</td>\n",
       "      <td>1.0</td>\n",
       "      <td>420.0</td>\n",
       "      <td>24.0</td>\n",
       "      <td>19.0</td>\n",
       "      <td>21.0</td>\n",
       "      <td>5</td>\n",
       "    </tr>\n",
       "    <tr>\n",
       "      <th>3</th>\n",
       "      <td>949d5b44dbf5de918fe9c16f97b45f8a</td>\n",
       "      <td>f88197465ea7920adcdbec7375364d82</td>\n",
       "      <td>7c142cf63193a1473d2e66489a9ae977</td>\n",
       "      <td>sao goncalo do amarante</td>\n",
       "      <td>RN</td>\n",
       "      <td>d0b61bfb1de832b15ba9d266ca96e5b0</td>\n",
       "      <td>45.00</td>\n",
       "      <td>27.20</td>\n",
       "      <td>pet_shop</td>\n",
       "      <td>59.0</td>\n",
       "      <td>468.0</td>\n",
       "      <td>3.0</td>\n",
       "      <td>450.0</td>\n",
       "      <td>30.0</td>\n",
       "      <td>10.0</td>\n",
       "      <td>20.0</td>\n",
       "      <td>5</td>\n",
       "    </tr>\n",
       "    <tr>\n",
       "      <th>4</th>\n",
       "      <td>ad21c59c0840e6cb83a9ceb5573f8159</td>\n",
       "      <td>8ab97904e6daea8866dbdbc4fb7aad2c</td>\n",
       "      <td>72632f0f9dd73dfee390c9b22eb56dd6</td>\n",
       "      <td>santo andre</td>\n",
       "      <td>SP</td>\n",
       "      <td>65266b2da20d04dbe00c5c2d3bb7859e</td>\n",
       "      <td>19.90</td>\n",
       "      <td>8.72</td>\n",
       "      <td>papelaria</td>\n",
       "      <td>38.0</td>\n",
       "      <td>316.0</td>\n",
       "      <td>4.0</td>\n",
       "      <td>250.0</td>\n",
       "      <td>51.0</td>\n",
       "      <td>15.0</td>\n",
       "      <td>15.0</td>\n",
       "      <td>5</td>\n",
       "    </tr>\n",
       "  </tbody>\n",
       "</table>\n",
       "</div>"
      ],
      "text/plain": [
       "                           order_id                       customer_id  \\\n",
       "0  e481f51cbdc54678b7cc49136f2d6af7  9ef432eb6251297304e76186b10a928d   \n",
       "1  53cdb2fc8bc7dce0b6741e2150273451  b0830fb4747a6c6d20dea0b8c802d7ef   \n",
       "2  47770eb9100c2d0c44946d9cf07ec65d  41ce2a54c0b03bf3443c3d931a367089   \n",
       "3  949d5b44dbf5de918fe9c16f97b45f8a  f88197465ea7920adcdbec7375364d82   \n",
       "4  ad21c59c0840e6cb83a9ceb5573f8159  8ab97904e6daea8866dbdbc4fb7aad2c   \n",
       "\n",
       "                 customer_unique_id            customer_city customer_state  \\\n",
       "0  7c396fd4830fd04220f754e42b4e5bff                sao paulo             SP   \n",
       "1  af07308b275d755c9edb36a90c618231                barreiras             BA   \n",
       "2  3a653a41f6f9fc3d2a113cf8398680e8               vianopolis             GO   \n",
       "3  7c142cf63193a1473d2e66489a9ae977  sao goncalo do amarante             RN   \n",
       "4  72632f0f9dd73dfee390c9b22eb56dd6              santo andre             SP   \n",
       "\n",
       "                         product_id   price  freight_value  \\\n",
       "0  87285b34884572647811a353c7ac498a   29.99           8.72   \n",
       "1  595fac2a385ac33a80bd5114aec74eb8  118.70          22.76   \n",
       "2  aa4383b373c6aca5d8797843e5594415  159.90          19.22   \n",
       "3  d0b61bfb1de832b15ba9d266ca96e5b0   45.00          27.20   \n",
       "4  65266b2da20d04dbe00c5c2d3bb7859e   19.90           8.72   \n",
       "\n",
       "   product_category_name  product_name_lenght  product_description_lenght  \\\n",
       "0  utilidades_domesticas                 40.0                       268.0   \n",
       "1             perfumaria                 29.0                       178.0   \n",
       "2             automotivo                 46.0                       232.0   \n",
       "3               pet_shop                 59.0                       468.0   \n",
       "4              papelaria                 38.0                       316.0   \n",
       "\n",
       "   product_photos_qty  product_weight_g  product_length_cm  product_height_cm  \\\n",
       "0                 4.0             500.0               19.0                8.0   \n",
       "1                 1.0             400.0               19.0               13.0   \n",
       "2                 1.0             420.0               24.0               19.0   \n",
       "3                 3.0             450.0               30.0               10.0   \n",
       "4                 4.0             250.0               51.0               15.0   \n",
       "\n",
       "   product_width_cm  review_score  \n",
       "0              13.0             4  \n",
       "1              19.0             4  \n",
       "2              21.0             5  \n",
       "3              20.0             5  \n",
       "4              15.0             5  "
      ]
     },
     "execution_count": 10,
     "metadata": {},
     "output_type": "execute_result"
    }
   ],
   "source": [
    "dataset = pd.read_excel(\"dataset.xlsx\")\n",
    "dataset.head()"
   ]
  },
  {
   "cell_type": "code",
   "execution_count": 19,
   "id": "445f4b99",
   "metadata": {},
   "outputs": [],
   "source": [
    "#Selecionando características de produtos e usuários\n",
    "produto_features = [\"price\", \"freight_value\", \"product_category_name\", \n",
    "                    \"product_name_lenght\", \"product_description_lenght\", \"product_photos_qty\",\n",
    "                    \"product_weight_g\", \"product_length_cm\", \"product_height_cm\",\n",
    "                    \"product_width_cm\"]\n",
    "cliente_features = [\"customer_city\", \"customer_state\"]"
   ]
  },
  {
   "cell_type": "markdown",
   "id": "7799eb02",
   "metadata": {},
   "source": [
    "**Gerando uma amostra negativa**\n",
    "No dataset existe apenas dados de compras realizadas, como a intenção é desenvolver um modelo de classificação para realizar a recoemndação de produtos, será necessário criar uma amostra aleatória de compras não realizadas para auxiliar o modelo no entendimento dos dados."
   ]
  },
  {
   "cell_type": "code",
   "execution_count": 13,
   "id": "eda46a75",
   "metadata": {},
   "outputs": [],
   "source": [
    "positivos = dataset[[\"customer_unique_id\", \"product_id\"]].drop_duplicates()\n",
    "positivos['target'] = 1\n",
    "\n",
    "clientes = dataset[\"customer_unique_id\"].unique()\n",
    "produtos = dataset[\"product_id\"].unique()"
   ]
  },
  {
   "cell_type": "code",
   "execution_count": 14,
   "id": "7f389af8",
   "metadata": {},
   "outputs": [],
   "source": [
    "#Gerando a amostra negativa\n",
    "negativos = []\n",
    "\n",
    "for _ in range(len(positivos)):\n",
    "    c = random.choice(clientes)\n",
    "    p = random.choice(produtos)\n",
    "    if not ((positivos[\"customer_unique_id\"] == c) & (positivos[\"product_id\"]) == p).any():\n",
    "        negativos.append((c, p, 0))\n",
    "negativos = pd.DataFrame(negativos, columns=[\"customer_unique_id\", \"product_id\", \"target\"])"
   ]
  },
  {
   "cell_type": "code",
   "execution_count": 21,
   "id": "e1651858",
   "metadata": {},
   "outputs": [],
   "source": [
    "#Juntando interacoes\n",
    "interacoes = pd.concat([positivos, negativos])\n",
    "\n",
    "#Juntando atributos de cliente e produtos\n",
    "dados = interacoes.merge(dataset.drop_duplicates(\"customer_unique_id\")[[\"customer_unique_id\"] + cliente_features], \n",
    "                         on=\"customer_unique_id\", how=\"left\")\n",
    "dados = dados.merge(dataset.drop_duplicates(\"product_id\")[[\"product_id\"] + produto_features], \n",
    "                    on=\"product_id\", how=\"left\")"
   ]
  },
  {
   "cell_type": "markdown",
   "id": "53561199",
   "metadata": {},
   "source": [
    "**Preciso corrigir os dados vazios**"
   ]
  },
  {
   "cell_type": "code",
   "execution_count": 56,
   "id": "43f67ef1",
   "metadata": {},
   "outputs": [],
   "source": [
    "dados_teste = dados.copy()\n",
    "dados_teste.dropna(inplace=True)\n",
    "\n",
    "X = dados_teste[cliente_features + produto_features]\n",
    "y = dados_teste['target']\n",
    "\n",
    "num_features = list(dados_teste.select_dtypes(\"float\").columns)\n",
    "cat_features = list(dados_teste.select_dtypes(\"object\").columns)\n",
    "cat_features.remove(\"customer_unique_id\")\n",
    "cat_features.remove(\"product_id\")\n",
    "\n",
    "preprocessor = ColumnTransformer(\n",
    "    transformers=[\n",
    "        ('num', StandardScaler(), num_features),\n",
    "        ('cat', OneHotEncoder(handle_unknown='ignore'), cat_features)\n",
    "    ])\n",
    "\n",
    "modelo = Pipeline(steps=[\n",
    "    ('preprocess', preprocessor),\n",
    "    ('classicador', RandomForestClassifier(n_estimators=100))\n",
    "])\n",
    "\n",
    "X_train, X_test, y_train, y_test = train_test_split(X, y, stratify=y)\n",
    "\n",
    "modelo.fit(X_train, y_train)\n",
    "\n",
    "probas = modelo.predict_proba(X_test)[:, 1]"
   ]
  },
  {
   "cell_type": "markdown",
   "id": "7f73ac94",
   "metadata": {},
   "source": [
    "**Pré-processamento**"
   ]
  },
  {
   "cell_type": "code",
   "execution_count": null,
   "id": "f33592c5",
   "metadata": {},
   "outputs": [],
   "source": [
    "X = dados[cliente_features + produto_features]\n",
    "y = dados['target']\n",
    "\n",
    "num_features = list(dados.select_dtypes(\"float\").columns)\n",
    "cat_features = list(dados.select_dtypes(\"object\").columns)\n",
    "cat_features.remove(\"customer_unique_id\")\n",
    "cat_features.remove(\"product_id\")\n",
    "\n",
    "preprocessor = ColumnTransformer(\n",
    "    transformers=[\n",
    "        ('num', StandardScaler(), num_features),\n",
    "        ('cat', OneHotEncoder(handle_unknown='ignore'), cat_features)\n",
    "    ])"
   ]
  },
  {
   "cell_type": "markdown",
   "id": "71b35a94",
   "metadata": {},
   "source": [
    "**Random Forest Classifier**"
   ]
  },
  {
   "cell_type": "code",
   "execution_count": 52,
   "id": "ca7a2eae",
   "metadata": {},
   "outputs": [],
   "source": [
    "#Modelo\n",
    "modelo = Pipeline(steps=[\n",
    "    ('preprocess', preprocessor),\n",
    "    ('classicador', RandomForestClassifier(n_estimators=100))\n",
    "])"
   ]
  },
  {
   "cell_type": "code",
   "execution_count": null,
   "id": "62a28981",
   "metadata": {},
   "outputs": [],
   "source": [
    "X_train, X_test, y_train, y_test = train_test_split(X, y, stratify=y)\n",
    "\n",
    "modelo.fit(X_train, y_train)"
   ]
  },
  {
   "cell_type": "code",
   "execution_count": null,
   "id": "bfe3de65",
   "metadata": {},
   "outputs": [],
   "source": [
    "probas = modelo.predict_proba(X_test)[:, 1]"
   ]
  },
  {
   "cell_type": "markdown",
   "id": "804c7a50",
   "metadata": {},
   "source": [
    "# **Recomendação**"
   ]
  },
  {
   "cell_type": "code",
   "execution_count": 58,
   "id": "8a9b527f",
   "metadata": {},
   "outputs": [],
   "source": [
    "cliente_id = dataset[\"customer_unique_id\"][8]"
   ]
  },
  {
   "cell_type": "code",
   "execution_count": 59,
   "id": "5d52b1f4",
   "metadata": {},
   "outputs": [],
   "source": [
    "produtos_comprados = dados[dados['customer_unique_id'] == cliente_id]['product_id'].unique()\n",
    "todos_produtos = dados['product_id'].unique()\n",
    "\n",
    "produtos_nao_comprados = [p for p in todos_produtos if p not in produtos_comprados]"
   ]
  },
  {
   "cell_type": "code",
   "execution_count": 60,
   "id": "1c042532",
   "metadata": {},
   "outputs": [],
   "source": [
    "# Pegamos as informações do cliente\n",
    "cliente_info = dados[dados['customer_unique_id'] == cliente_id].iloc[0]\n",
    "\n",
    "# Criar novas linhas combinando o cliente com os produtos não comprados\n",
    "recomendacoes = []\n",
    "\n",
    "for produto_id in produtos_nao_comprados:\n",
    "    prod_info = dados[dados['product_id'] == produto_id].iloc[0]\n",
    "\n",
    "    linha = {\n",
    "        'customer_unique_id': cliente_id,\n",
    "        'customer_state': cliente_info['customer_state'],\n",
    "        'customer_city': cliente_info['customer_city'],\n",
    "        'product_id': produto_id,\n",
    "        'product_category_name': prod_info['product_category_name'],\n",
    "        'price': prod_info['price'],\n",
    "        'product_weight_g': prod_info['product_weight_g'],\n",
    "        # adicione aqui as demais colunas usadas no modelo\n",
    "    }\n",
    "\n",
    "    recomendacoes.append(linha)\n",
    "\n",
    "df_recomendacoes = pd.DataFrame(recomendacoes)\n"
   ]
  },
  {
   "cell_type": "code",
   "execution_count": 63,
   "id": "0b4c2410",
   "metadata": {},
   "outputs": [
    {
     "data": {
      "text/plain": [
       "Index(['customer_city', 'customer_state', 'price', 'freight_value',\n",
       "       'product_category_name', 'product_name_lenght',\n",
       "       'product_description_lenght', 'product_photos_qty', 'product_weight_g',\n",
       "       'product_length_cm', 'product_height_cm', 'product_width_cm'],\n",
       "      dtype='object')"
      ]
     },
     "execution_count": 63,
     "metadata": {},
     "output_type": "execute_result"
    }
   ],
   "source": [
    "X.columns"
   ]
  },
  {
   "cell_type": "code",
   "execution_count": 61,
   "id": "9918a151",
   "metadata": {},
   "outputs": [
    {
     "ename": "KeyError",
     "evalue": "\"['freight_value', 'product_name_lenght', 'product_description_lenght', 'product_photos_qty', 'product_length_cm', 'product_height_cm', 'product_width_cm'] not in index\"",
     "output_type": "error",
     "traceback": [
      "\u001b[1;31m---------------------------------------------------------------------------\u001b[0m",
      "\u001b[1;31mKeyError\u001b[0m                                  Traceback (most recent call last)",
      "Cell \u001b[1;32mIn[61], line 1\u001b[0m\n\u001b[1;32m----> 1\u001b[0m X_recomendacao \u001b[38;5;241m=\u001b[39m \u001b[43mdf_recomendacoes\u001b[49m\u001b[43m[\u001b[49m\u001b[43mcliente_features\u001b[49m\u001b[43m \u001b[49m\u001b[38;5;241;43m+\u001b[39;49m\u001b[43m \u001b[49m\u001b[43mproduto_features\u001b[49m\u001b[43m]\u001b[49m\n\u001b[0;32m      2\u001b[0m scores \u001b[38;5;241m=\u001b[39m modelo\u001b[38;5;241m.\u001b[39mpredict_proba(X_recomendacao)[:, \u001b[38;5;241m1\u001b[39m]\n\u001b[0;32m      4\u001b[0m df_recomendacoes[\u001b[38;5;124m'\u001b[39m\u001b[38;5;124mscore\u001b[39m\u001b[38;5;124m'\u001b[39m] \u001b[38;5;241m=\u001b[39m scores\n",
      "File \u001b[1;32m~\\AppData\\Local\\Packages\\PythonSoftwareFoundation.Python.3.11_qbz5n2kfra8p0\\LocalCache\\local-packages\\Python311\\site-packages\\pandas\\core\\frame.py:4096\u001b[0m, in \u001b[0;36mDataFrame.__getitem__\u001b[1;34m(self, key)\u001b[0m\n\u001b[0;32m   4094\u001b[0m     \u001b[38;5;28;01mif\u001b[39;00m is_iterator(key):\n\u001b[0;32m   4095\u001b[0m         key \u001b[38;5;241m=\u001b[39m \u001b[38;5;28mlist\u001b[39m(key)\n\u001b[1;32m-> 4096\u001b[0m     indexer \u001b[38;5;241m=\u001b[39m \u001b[38;5;28;43mself\u001b[39;49m\u001b[38;5;241;43m.\u001b[39;49m\u001b[43mcolumns\u001b[49m\u001b[38;5;241;43m.\u001b[39;49m\u001b[43m_get_indexer_strict\u001b[49m\u001b[43m(\u001b[49m\u001b[43mkey\u001b[49m\u001b[43m,\u001b[49m\u001b[43m \u001b[49m\u001b[38;5;124;43m\"\u001b[39;49m\u001b[38;5;124;43mcolumns\u001b[39;49m\u001b[38;5;124;43m\"\u001b[39;49m\u001b[43m)\u001b[49m[\u001b[38;5;241m1\u001b[39m]\n\u001b[0;32m   4098\u001b[0m \u001b[38;5;66;03m# take() does not accept boolean indexers\u001b[39;00m\n\u001b[0;32m   4099\u001b[0m \u001b[38;5;28;01mif\u001b[39;00m \u001b[38;5;28mgetattr\u001b[39m(indexer, \u001b[38;5;124m\"\u001b[39m\u001b[38;5;124mdtype\u001b[39m\u001b[38;5;124m\"\u001b[39m, \u001b[38;5;28;01mNone\u001b[39;00m) \u001b[38;5;241m==\u001b[39m \u001b[38;5;28mbool\u001b[39m:\n",
      "File \u001b[1;32m~\\AppData\\Local\\Packages\\PythonSoftwareFoundation.Python.3.11_qbz5n2kfra8p0\\LocalCache\\local-packages\\Python311\\site-packages\\pandas\\core\\indexes\\base.py:6200\u001b[0m, in \u001b[0;36mIndex._get_indexer_strict\u001b[1;34m(self, key, axis_name)\u001b[0m\n\u001b[0;32m   6197\u001b[0m \u001b[38;5;28;01melse\u001b[39;00m:\n\u001b[0;32m   6198\u001b[0m     keyarr, indexer, new_indexer \u001b[38;5;241m=\u001b[39m \u001b[38;5;28mself\u001b[39m\u001b[38;5;241m.\u001b[39m_reindex_non_unique(keyarr)\n\u001b[1;32m-> 6200\u001b[0m \u001b[38;5;28;43mself\u001b[39;49m\u001b[38;5;241;43m.\u001b[39;49m\u001b[43m_raise_if_missing\u001b[49m\u001b[43m(\u001b[49m\u001b[43mkeyarr\u001b[49m\u001b[43m,\u001b[49m\u001b[43m \u001b[49m\u001b[43mindexer\u001b[49m\u001b[43m,\u001b[49m\u001b[43m \u001b[49m\u001b[43maxis_name\u001b[49m\u001b[43m)\u001b[49m\n\u001b[0;32m   6202\u001b[0m keyarr \u001b[38;5;241m=\u001b[39m \u001b[38;5;28mself\u001b[39m\u001b[38;5;241m.\u001b[39mtake(indexer)\n\u001b[0;32m   6203\u001b[0m \u001b[38;5;28;01mif\u001b[39;00m \u001b[38;5;28misinstance\u001b[39m(key, Index):\n\u001b[0;32m   6204\u001b[0m     \u001b[38;5;66;03m# GH 42790 - Preserve name from an Index\u001b[39;00m\n",
      "File \u001b[1;32m~\\AppData\\Local\\Packages\\PythonSoftwareFoundation.Python.3.11_qbz5n2kfra8p0\\LocalCache\\local-packages\\Python311\\site-packages\\pandas\\core\\indexes\\base.py:6252\u001b[0m, in \u001b[0;36mIndex._raise_if_missing\u001b[1;34m(self, key, indexer, axis_name)\u001b[0m\n\u001b[0;32m   6249\u001b[0m     \u001b[38;5;28;01mraise\u001b[39;00m \u001b[38;5;167;01mKeyError\u001b[39;00m(\u001b[38;5;124mf\u001b[39m\u001b[38;5;124m\"\u001b[39m\u001b[38;5;124mNone of [\u001b[39m\u001b[38;5;132;01m{\u001b[39;00mkey\u001b[38;5;132;01m}\u001b[39;00m\u001b[38;5;124m] are in the [\u001b[39m\u001b[38;5;132;01m{\u001b[39;00maxis_name\u001b[38;5;132;01m}\u001b[39;00m\u001b[38;5;124m]\u001b[39m\u001b[38;5;124m\"\u001b[39m)\n\u001b[0;32m   6251\u001b[0m not_found \u001b[38;5;241m=\u001b[39m \u001b[38;5;28mlist\u001b[39m(ensure_index(key)[missing_mask\u001b[38;5;241m.\u001b[39mnonzero()[\u001b[38;5;241m0\u001b[39m]]\u001b[38;5;241m.\u001b[39munique())\n\u001b[1;32m-> 6252\u001b[0m \u001b[38;5;28;01mraise\u001b[39;00m \u001b[38;5;167;01mKeyError\u001b[39;00m(\u001b[38;5;124mf\u001b[39m\u001b[38;5;124m\"\u001b[39m\u001b[38;5;132;01m{\u001b[39;00mnot_found\u001b[38;5;132;01m}\u001b[39;00m\u001b[38;5;124m not in index\u001b[39m\u001b[38;5;124m\"\u001b[39m)\n",
      "\u001b[1;31mKeyError\u001b[0m: \"['freight_value', 'product_name_lenght', 'product_description_lenght', 'product_photos_qty', 'product_length_cm', 'product_height_cm', 'product_width_cm'] not in index\""
     ]
    }
   ],
   "source": [
    "X_recomendacao = df_recomendacoes[cliente_features + produto_features]\n",
    "scores = modelo.predict_proba(X_recomendacao)[:, 1]\n",
    "\n",
    "df_recomendacoes['score'] = scores\n"
   ]
  },
  {
   "cell_type": "code",
   "execution_count": null,
   "id": "185ff105",
   "metadata": {},
   "outputs": [],
   "source": [
    "top_n = 5\n",
    "top_recomendacoes = df_recomendacoes.sort_values(by='score', ascending=False).head(top_n)\n",
    "\n",
    "print(top_recomendacoes[['product_id', 'product_category_name', 'score']])\n"
   ]
  }
 ],
 "metadata": {
  "kernelspec": {
   "display_name": "Python 3",
   "language": "python",
   "name": "python3"
  },
  "language_info": {
   "codemirror_mode": {
    "name": "ipython",
    "version": 3
   },
   "file_extension": ".py",
   "mimetype": "text/x-python",
   "name": "python",
   "nbconvert_exporter": "python",
   "pygments_lexer": "ipython3",
   "version": "3.11.9"
  }
 },
 "nbformat": 4,
 "nbformat_minor": 5
}
