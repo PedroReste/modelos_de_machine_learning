{
 "cells": [
  {
   "cell_type": "markdown",
   "id": "b5bb4864",
   "metadata": {},
   "source": [
    "# **Modelo de Recomendação**\n",
    "Nesse notebok desenvolvido o modelo de recomendação de produtos com dados de usuários de Olist, que foram selecionados e gerados a partir da análise exploratória. Além do treinamento do modelo de recomendação, será validado seu desempenho, aplicação do melhor modelo para recomendar novos produtos.\n",
    "\n",
    "**Resumo do Modelo** \\\n",
    "Como foi utilizado modelos de classificação, foi necessário gerar uma amostra negativa para auxiliar o modelo no melhor entendimento dos dados, já que a base consiste apenas de compras realizadas. O tipo de amostragem negativa aplicada foi de similaridade, levando em consideração a similaridade de produtos que os clientes já compraram. \\\n",
    "Após a geração da amostragem negativa, foram realizados tratamentos distintos para valores vazios que existiam em colunas categóricas e numéricas, considerando a quantidade de valores vazios que existiam em cada coluna. \\\n",
    "Para o treinamento foram utilizados os modelos de Random Forest, XGB, LGBM e CatBoost, e foi avalidado o desempenho de cada um, sendo o **CatBoost** o melhor na configuração atual para recomendar produtos. \\\n",
    "Após todo o processo de treinamento e escolhado do melhor modelo, foram selecionados os clientes que seriam impactados pela as ações de marketing e aplicados para o modelo prever os melhores produtos para esses clientes. Ao final foi gerando um arquivo com o id do cliente, id do produto, categoria do produto e o score de possibilidade de achar aquele produto interessante para uso nas ações de marketing."
   ]
  },
  {
   "cell_type": "code",
   "execution_count": 2,
   "id": "181494ed",
   "metadata": {},
   "outputs": [],
   "source": [
    "#Bibliotecas\n",
    "from pyspark.sql import SparkSession\n",
    "from pyspark.sql.window import Window\n",
    "from pyspark.sql import functions as F\n",
    "\n",
    "spark = SparkSession.builder.appName(\"session\").getOrCreate()\n",
    "spark.conf.set(\"spark.sql.adaptive.enable\", \"true\")"
   ]
  },
  {
   "cell_type": "code",
   "execution_count": 3,
   "id": "e0518601",
   "metadata": {},
   "outputs": [
    {
     "name": "stdout",
     "output_type": "stream",
     "text": [
      "+--------------------+--------------------+--------------------+--------------------+-------------+--------------+------+-------------+---------------------+-------------------+--------------------------+------------------+----------------+-----------------+-----------------+----------------+------------+\n",
      "|            order_id|          product_id|         customer_id|  customer_unique_id|customer_city|customer_state| price|freight_value|product_category_name|product_name_lenght|product_description_lenght|product_photos_qty|product_weight_g|product_length_cm|product_height_cm|product_width_cm|review_score|\n",
      "+--------------------+--------------------+--------------------+--------------------+-------------+--------------+------+-------------+---------------------+-------------------+--------------------------+------------------+----------------+-----------------+-----------------+----------------+------------+\n",
      "|00048cc3ae777c65d...|ef92defde845ab845...|816cbea969fe5b689...|85c835d128beae5b4...|      uberaba|            MG| 21.90|        12.69| utilidades_domest...|                 36|                       558|                 1|             450|               24|                8|              15|           4|\n",
      "|000e63d38ae8c00bb...|553e0e7590d3116a0...|98884e672c5ba85f4...|860fc00d3154ce234...|    sao paulo|            SP| 47.90|         8.88|      cama_mesa_banho|                 38|                       735|                 5|             800|               20|               20|              20|           3|\n",
      "|00119ff934e539cf2...|21b1c2f67a9aafb5a...|7dd2e283f47deac85...|13df7b623839b4edc...|  nova iguacu|            RJ|219.90|        16.98|        esporte_lazer|                 35|                      1132|                 8|            9800|              105|               15|              28|           5|\n",
      "|001427c0ec99cf8af...|28b4eced95a52d9c4...|eab9c552374be06ed...|2ada69d1c5528233e...|    ituiutaba|            MG| 59.90|        23.35|     moveis_decoracao|                 60|                      1953|                 1|             750|               69|               11|              11|           2|\n",
      "|0017afd5076e074a4...|fe59a1e006df3ac42...|8085a9af46f619bc2...|98758d88bf4b8eef1...| campo alegre|            AL|809.10|        44.29| informatica_acess...|                 60|                      2136|                 1|            3407|               28|               22|              23|           1|\n",
      "+--------------------+--------------------+--------------------+--------------------+-------------+--------------+------+-------------+---------------------+-------------------+--------------------------+------------------+----------------+-----------------+-----------------+----------------+------------+\n",
      "only showing top 5 rows\n",
      "\n"
     ]
    }
   ],
   "source": [
    "dataset = spark.read.option(\"header\", True).parquet(\"dataset.parquet\")\n",
    "dataset.show(5)"
   ]
  },
  {
   "cell_type": "code",
   "execution_count": 4,
   "id": "03ea16f8",
   "metadata": {},
   "outputs": [],
   "source": [
    "#Selecionando características de produtos e usuários\n",
    "produto_features = [\"price\", \"freight_value\", \"product_category_name\", \n",
    "                    \"product_name_lenght\", \"product_description_lenght\", \"product_photos_qty\",\n",
    "                    \"product_weight_g\", \"product_length_cm\", \"product_height_cm\",\n",
    "                    \"product_width_cm\"]\n",
    "cliente_features = [\"customer_city\", \"customer_state\"]"
   ]
  }
 ],
 "metadata": {
  "kernelspec": {
   "display_name": "Python 3",
   "language": "python",
   "name": "python3"
  },
  "language_info": {
   "codemirror_mode": {
    "name": "ipython",
    "version": 3
   },
   "file_extension": ".py",
   "mimetype": "text/x-python",
   "name": "python",
   "nbconvert_exporter": "python",
   "pygments_lexer": "ipython3",
   "version": "3.11.9"
  }
 },
 "nbformat": 4,
 "nbformat_minor": 5
}
