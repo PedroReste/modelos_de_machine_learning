{
 "cells": [
  {
   "cell_type": "markdown",
   "id": "b8faf025",
   "metadata": {},
   "source": [
    "# **Resumo da Análise Exploratória - Parte 02**\n",
    "A intenção inicial era utilizar o modelo SVD e similares para gerar um modelo de recomendação de produtos, mas como visto na parte 01 da análise exploratória, não existe realmente um histórico de pedidos e avaliações feitas pelos usuários. Para dar continuidade nesse modelo de recomendação, vamos deixar de lado a recomendação com base no histórico de pedidos e avaliações, e seguiremos com um modelo de recomendação com base em características existentes nas bases de dados."
   ]
  },
  {
   "cell_type": "code",
   "execution_count": 1,
   "id": "853e2463",
   "metadata": {},
   "outputs": [],
   "source": [
    "#Bibliotecas\n",
    "from pyspark.sql import SparkSession\n",
    "from pyspark.sql.window import Window\n",
    "from pyspark.sql import functions as F\n",
    "\n",
    "spark = SparkSession.builder.appName(\"session\").getOrCreate()\n",
    "spark.conf.set(\"spark.sql.adaptive.enable\", \"true\")"
   ]
  },
  {
   "cell_type": "code",
   "execution_count": 15,
   "id": "2523efee",
   "metadata": {},
   "outputs": [],
   "source": [
    "#Datasets\n",
    "olist_customers = spark.read.option(\"header\", True).parquet(\"olist_customers_dataset.parquet\") \\\n",
    "    .drop(\"customer_zip_code_prefix\")\n",
    "olist_orders = spark.read.option(\"header\", True).parquet(\"olist_orders_dataset.parquet\") \\\n",
    "    .select('order_id', 'customer_id', 'order_status')\n",
    "olist_order_reviews = spark.read.option(\"header\", True).parquet(\"olist_order_reviews_dataset.parquet\") \\\n",
    "    .select('order_id', 'review_score')\n",
    "olist_order_items = spark.read.option(\"header\", True).parquet(\"olist_order_items_dataset.parquet\") \\\n",
    "    .select('order_id', 'product_id', 'price', 'freight_value')\n",
    "olist_products = spark.read.option(\"header\", True).parquet(\"olist_products_dataset.parquet\")"
   ]
  },
  {
   "cell_type": "markdown",
   "id": "7c8f4aa7",
   "metadata": {},
   "source": [
    "Agora vou fazer alguns filtros que foram feitos na parte 01 para ser reutilizado aqui, como filtrar pedidos que um único tipo de item, com status de entregue e que foram avalidados. Assim amenizando o volume do cruazmento dos dados."
   ]
  },
  {
   "cell_type": "code",
   "execution_count": 16,
   "id": "586fcb8a",
   "metadata": {},
   "outputs": [],
   "source": [
    "#Lista de produtos únicos nos pedidos\n",
    "produtos = olist_order_items.groupBy(\"order_id\").agg(F.count(\"product_id\").alias(\"total\"),\n",
    "                                                     F.countDistinct(\"product_id\").alias(\"distinto\"))\n",
    "lista_de_pedidos_com_unico_produto = produtos.filter(F.col(\"distinto\") == 1).select(\"order_id\")"
   ]
  },
  {
   "cell_type": "code",
   "execution_count": 17,
   "id": "0b9c8d1f",
   "metadata": {},
   "outputs": [],
   "source": [
    "#Filtrando os order_id que estão dentro da lista de pedidos com único tipo de produto\n",
    "olist_orders = olist_orders.join(lista_de_pedidos_com_unico_produto, on=\"order_id\", how=\"inner\")\n",
    "\n",
    "#Filtrando os order_id que estão dentro da lista de produtos com único tipo de produto\n",
    "olist_order_items = olist_order_items.join(lista_de_pedidos_com_unico_produto, on=\"order_id\", how=\"inner\")\n",
    "olist_order_items = olist_order_items.dropDuplicates([\"order_id\"])\n",
    "\n",
    "#Filtro de status de pedido como entregue e tirando essa coluna\n",
    "olist_orders = olist_orders.filter(F.col(\"order_status\") == \"delivered\")\n",
    "olist_orders = olist_orders.drop(\"order_status\")\n",
    "\n",
    "#Filtrando os pedidos que estão sem avaliações e com order_id duplicados\n",
    "olist_order_reviews = olist_order_reviews.dropna(subset=[\"review_score\"], how=\"any\")\n",
    "olist_order_reviews = olist_order_reviews.dropDuplicates([\"order_id\"])"
   ]
  },
  {
   "cell_type": "code",
   "execution_count": 18,
   "id": "a3eb6c70",
   "metadata": {},
   "outputs": [],
   "source": [
    "#Cruzamentos\n",
    "dataset = olist_orders.join(olist_customers, on=\"customer_id\", how=\"inner\") \\\n",
    "    .join(olist_order_items, on=\"order_id\", how=\"inner\") \\\n",
    "    .join(olist_products, on=\"product_id\", how=\"inner\") \\\n",
    "    .join(olist_order_reviews, on=\"order_id\", how=\"inner\")"
   ]
  },
  {
   "cell_type": "code",
   "execution_count": 19,
   "id": "63636055",
   "metadata": {},
   "outputs": [
    {
     "data": {
      "text/plain": [
       "(92673, 93281, 608)"
      ]
     },
     "execution_count": 19,
     "metadata": {},
     "output_type": "execute_result"
    }
   ],
   "source": [
    "#Comparando a qtd de linhas da base nova e da base de pedidos\n",
    "dataset.count(), olist_orders.count(), olist_orders.count() - dataset.count()"
   ]
  },
  {
   "cell_type": "code",
   "execution_count": 25,
   "id": "be8c7d19",
   "metadata": {},
   "outputs": [
    {
     "name": "stdout",
     "output_type": "stream",
     "text": [
      "+--------------------------+---------+\n",
      "|variavel                  |qtd_nulos|\n",
      "+--------------------------+---------+\n",
      "|product_category_name     |1317     |\n",
      "|product_name_lenght       |1317     |\n",
      "|product_description_lenght|1317     |\n",
      "|product_photos_qty        |1317     |\n",
      "|product_weight_g          |16       |\n",
      "|product_height_cm         |16       |\n",
      "|product_length_cm         |16       |\n",
      "|product_width_cm          |16       |\n",
      "|price                     |0        |\n",
      "|order_id                  |0        |\n",
      "|freight_value             |0        |\n",
      "|review_score              |0        |\n",
      "|customer_id               |0        |\n",
      "|product_id                |0        |\n",
      "|customer_unique_id        |0        |\n",
      "|customer_city             |0        |\n",
      "|customer_state            |0        |\n",
      "+--------------------------+---------+\n",
      "\n"
     ]
    }
   ],
   "source": [
    "# Lista para armazenar os resultados\n",
    "null_counts = []\n",
    "\n",
    "for c in dataset.columns:\n",
    "    count_nulls = dataset.filter(F.col(c).isNull()).count()\n",
    "    null_counts.append((c, count_nulls))\n",
    "\n",
    "# Transformar em DataFrame\n",
    "schema = [\"variavel\", \"qtd_nulos\"]\n",
    "nulls_df = spark.createDataFrame(null_counts, schema)\n",
    "\n",
    "# Mostrar o resultado\n",
    "nulls_df.orderBy(F.desc(\"qtd_nulos\")).show(truncate=False)"
   ]
  },
  {
   "cell_type": "code",
   "execution_count": 26,
   "id": "91919fd9",
   "metadata": {},
   "outputs": [],
   "source": [
    "#Base para exportação\n",
    "dataset.write.parquet(\"dataset.parquet\")"
   ]
  }
 ],
 "metadata": {
  "kernelspec": {
   "display_name": "Python 3",
   "language": "python",
   "name": "python3"
  },
  "language_info": {
   "codemirror_mode": {
    "name": "ipython",
    "version": 3
   },
   "file_extension": ".py",
   "mimetype": "text/x-python",
   "name": "python",
   "nbconvert_exporter": "python",
   "pygments_lexer": "ipython3",
   "version": "3.11.9"
  }
 },
 "nbformat": 4,
 "nbformat_minor": 5
}
