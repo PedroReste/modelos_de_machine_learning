{
 "cells": [
  {
   "cell_type": "code",
   "execution_count": 10,
   "metadata": {},
   "outputs": [],
   "source": [
    "import pandas as pd\n",
    "\n",
    "from dtype_diet import report_on_dataframe, optimize_dtypes\n",
    "from summarytools import dfSummary\n",
    "\n",
    "from sklearn.model_selection import train_test_split\n"
   ]
  },
  {
   "cell_type": "code",
   "execution_count": 3,
   "metadata": {},
   "outputs": [
    {
     "data": {
      "text/html": [
       "<div>\n",
       "<style scoped>\n",
       "    .dataframe tbody tr th:only-of-type {\n",
       "        vertical-align: middle;\n",
       "    }\n",
       "\n",
       "    .dataframe tbody tr th {\n",
       "        vertical-align: top;\n",
       "    }\n",
       "\n",
       "    .dataframe thead th {\n",
       "        text-align: right;\n",
       "    }\n",
       "</style>\n",
       "<table border=\"1\" class=\"dataframe\">\n",
       "  <thead>\n",
       "    <tr style=\"text-align: right;\">\n",
       "      <th></th>\n",
       "      <th>CustomerID</th>\n",
       "      <th>Churn</th>\n",
       "      <th>Tenure</th>\n",
       "      <th>PreferredLoginDevice</th>\n",
       "      <th>CityTier</th>\n",
       "      <th>WarehouseToHome</th>\n",
       "      <th>PreferredPaymentMode</th>\n",
       "      <th>Gender</th>\n",
       "      <th>HourSpendOnApp</th>\n",
       "      <th>NumberOfDeviceRegistered</th>\n",
       "      <th>PreferedOrderCat</th>\n",
       "      <th>SatisfactionScore</th>\n",
       "      <th>MaritalStatus</th>\n",
       "      <th>NumberOfAddress</th>\n",
       "      <th>Complain</th>\n",
       "      <th>OrderAmountHikeFromlastYear</th>\n",
       "      <th>CouponUsed</th>\n",
       "      <th>OrderCount</th>\n",
       "      <th>DaySinceLastOrder</th>\n",
       "      <th>CashbackAmount</th>\n",
       "    </tr>\n",
       "  </thead>\n",
       "  <tbody>\n",
       "    <tr>\n",
       "      <th>0</th>\n",
       "      <td>50001</td>\n",
       "      <td>1</td>\n",
       "      <td>4.0</td>\n",
       "      <td>Mobile Phone</td>\n",
       "      <td>3</td>\n",
       "      <td>6.0</td>\n",
       "      <td>Debit Card</td>\n",
       "      <td>Female</td>\n",
       "      <td>3.0</td>\n",
       "      <td>3</td>\n",
       "      <td>Laptop &amp; Accessory</td>\n",
       "      <td>2</td>\n",
       "      <td>Single</td>\n",
       "      <td>9</td>\n",
       "      <td>1</td>\n",
       "      <td>11.0</td>\n",
       "      <td>1.0</td>\n",
       "      <td>1.0</td>\n",
       "      <td>5.0</td>\n",
       "      <td>160</td>\n",
       "    </tr>\n",
       "    <tr>\n",
       "      <th>1</th>\n",
       "      <td>50002</td>\n",
       "      <td>1</td>\n",
       "      <td>NaN</td>\n",
       "      <td>Phone</td>\n",
       "      <td>1</td>\n",
       "      <td>8.0</td>\n",
       "      <td>UPI</td>\n",
       "      <td>Male</td>\n",
       "      <td>3.0</td>\n",
       "      <td>4</td>\n",
       "      <td>Mobile</td>\n",
       "      <td>3</td>\n",
       "      <td>Single</td>\n",
       "      <td>7</td>\n",
       "      <td>1</td>\n",
       "      <td>15.0</td>\n",
       "      <td>0.0</td>\n",
       "      <td>1.0</td>\n",
       "      <td>0.0</td>\n",
       "      <td>121</td>\n",
       "    </tr>\n",
       "    <tr>\n",
       "      <th>2</th>\n",
       "      <td>50003</td>\n",
       "      <td>1</td>\n",
       "      <td>NaN</td>\n",
       "      <td>Phone</td>\n",
       "      <td>1</td>\n",
       "      <td>30.0</td>\n",
       "      <td>Debit Card</td>\n",
       "      <td>Male</td>\n",
       "      <td>2.0</td>\n",
       "      <td>4</td>\n",
       "      <td>Mobile</td>\n",
       "      <td>3</td>\n",
       "      <td>Single</td>\n",
       "      <td>6</td>\n",
       "      <td>1</td>\n",
       "      <td>14.0</td>\n",
       "      <td>0.0</td>\n",
       "      <td>1.0</td>\n",
       "      <td>3.0</td>\n",
       "      <td>120</td>\n",
       "    </tr>\n",
       "    <tr>\n",
       "      <th>3</th>\n",
       "      <td>50004</td>\n",
       "      <td>1</td>\n",
       "      <td>0.0</td>\n",
       "      <td>Phone</td>\n",
       "      <td>3</td>\n",
       "      <td>15.0</td>\n",
       "      <td>Debit Card</td>\n",
       "      <td>Male</td>\n",
       "      <td>2.0</td>\n",
       "      <td>4</td>\n",
       "      <td>Laptop &amp; Accessory</td>\n",
       "      <td>5</td>\n",
       "      <td>Single</td>\n",
       "      <td>8</td>\n",
       "      <td>0</td>\n",
       "      <td>23.0</td>\n",
       "      <td>0.0</td>\n",
       "      <td>1.0</td>\n",
       "      <td>3.0</td>\n",
       "      <td>134</td>\n",
       "    </tr>\n",
       "    <tr>\n",
       "      <th>4</th>\n",
       "      <td>50005</td>\n",
       "      <td>1</td>\n",
       "      <td>0.0</td>\n",
       "      <td>Phone</td>\n",
       "      <td>1</td>\n",
       "      <td>12.0</td>\n",
       "      <td>CC</td>\n",
       "      <td>Male</td>\n",
       "      <td>NaN</td>\n",
       "      <td>3</td>\n",
       "      <td>Mobile</td>\n",
       "      <td>5</td>\n",
       "      <td>Single</td>\n",
       "      <td>3</td>\n",
       "      <td>0</td>\n",
       "      <td>11.0</td>\n",
       "      <td>1.0</td>\n",
       "      <td>1.0</td>\n",
       "      <td>3.0</td>\n",
       "      <td>130</td>\n",
       "    </tr>\n",
       "  </tbody>\n",
       "</table>\n",
       "</div>"
      ],
      "text/plain": [
       "   CustomerID  Churn  Tenure PreferredLoginDevice  CityTier  WarehouseToHome  \\\n",
       "0       50001      1     4.0         Mobile Phone         3              6.0   \n",
       "1       50002      1     NaN                Phone         1              8.0   \n",
       "2       50003      1     NaN                Phone         1             30.0   \n",
       "3       50004      1     0.0                Phone         3             15.0   \n",
       "4       50005      1     0.0                Phone         1             12.0   \n",
       "\n",
       "  PreferredPaymentMode  Gender  HourSpendOnApp  NumberOfDeviceRegistered  \\\n",
       "0           Debit Card  Female             3.0                         3   \n",
       "1                  UPI    Male             3.0                         4   \n",
       "2           Debit Card    Male             2.0                         4   \n",
       "3           Debit Card    Male             2.0                         4   \n",
       "4                   CC    Male             NaN                         3   \n",
       "\n",
       "     PreferedOrderCat  SatisfactionScore MaritalStatus  NumberOfAddress  \\\n",
       "0  Laptop & Accessory                  2        Single                9   \n",
       "1              Mobile                  3        Single                7   \n",
       "2              Mobile                  3        Single                6   \n",
       "3  Laptop & Accessory                  5        Single                8   \n",
       "4              Mobile                  5        Single                3   \n",
       "\n",
       "   Complain  OrderAmountHikeFromlastYear  CouponUsed  OrderCount  \\\n",
       "0         1                         11.0         1.0         1.0   \n",
       "1         1                         15.0         0.0         1.0   \n",
       "2         1                         14.0         0.0         1.0   \n",
       "3         0                         23.0         0.0         1.0   \n",
       "4         0                         11.0         1.0         1.0   \n",
       "\n",
       "   DaySinceLastOrder  CashbackAmount  \n",
       "0                5.0             160  \n",
       "1                0.0             121  \n",
       "2                3.0             120  \n",
       "3                3.0             134  \n",
       "4                3.0             130  "
      ]
     },
     "execution_count": 3,
     "metadata": {},
     "output_type": "execute_result"
    }
   ],
   "source": [
    "url = \"https://github.com/PedroReste/prescriptive_and_prediction_analysis/raw/main/pt_modelo_de_previsao_de_churn/ecommerce_dataset_sem_tratamento.csv\"\n",
    "df = pd.read_csv(url, sep=\";\")\n",
    "df.head()"
   ]
  },
  {
   "cell_type": "code",
   "execution_count": 6,
   "metadata": {},
   "outputs": [
    {
     "name": "stdout",
     "output_type": "stream",
     "text": [
      "Df original: 2.4223709858851086 MB\n",
      "Df otimizado, memória usada: 0.1702916974852071 MB\n"
     ]
    }
   ],
   "source": [
    "optimized_df = report_on_dataframe(df, unit=\"MB\")\n",
    "df_optimized = optimize_dtypes(df, optimized_df)\n",
    "\n",
    "print(f'Df original: {df.memory_usage(deep=True).sum()/1024/1014} MB')\n",
    "print(f'Df otimizado, memória usada: {df_optimized.memory_usage(deep=True).sum()/1024/1014} MB')\n",
    "\n",
    "df = df_optimized"
   ]
  },
  {
   "cell_type": "code",
   "execution_count": 7,
   "metadata": {},
   "outputs": [
    {
     "name": "stdout",
     "output_type": "stream",
     "text": [
      "<class 'pandas.core.frame.DataFrame'>\n",
      "RangeIndex: 5630 entries, 0 to 5629\n",
      "Data columns (total 20 columns):\n",
      " #   Column                       Non-Null Count  Dtype   \n",
      "---  ------                       --------------  -----   \n",
      " 0   CustomerID                   5630 non-null   int32   \n",
      " 1   Churn                        5630 non-null   int8    \n",
      " 2   Tenure                       5366 non-null   float16 \n",
      " 3   PreferredLoginDevice         5630 non-null   category\n",
      " 4   CityTier                     5630 non-null   int8    \n",
      " 5   WarehouseToHome              5379 non-null   float16 \n",
      " 6   PreferredPaymentMode         5630 non-null   category\n",
      " 7   Gender                       5630 non-null   category\n",
      " 8   HourSpendOnApp               5375 non-null   float16 \n",
      " 9   NumberOfDeviceRegistered     5630 non-null   int8    \n",
      " 10  PreferedOrderCat             5630 non-null   category\n",
      " 11  SatisfactionScore            5630 non-null   int8    \n",
      " 12  MaritalStatus                5630 non-null   category\n",
      " 13  NumberOfAddress              5630 non-null   int8    \n",
      " 14  Complain                     5630 non-null   int8    \n",
      " 15  OrderAmountHikeFromlastYear  5365 non-null   float16 \n",
      " 16  CouponUsed                   5374 non-null   float16 \n",
      " 17  OrderCount                   5372 non-null   float16 \n",
      " 18  DaySinceLastOrder            5323 non-null   float16 \n",
      " 19  CashbackAmount               5630 non-null   int16   \n",
      "dtypes: category(5), float16(7), int16(1), int32(1), int8(6)\n",
      "memory usage: 171.5 KB\n"
     ]
    }
   ],
   "source": [
    "df.info()"
   ]
  },
  {
   "cell_type": "code",
   "execution_count": 11,
   "metadata": {},
   "outputs": [
    {
     "data": {
      "text/plain": [
       "CustomerID                     5630\n",
       "Churn                             2\n",
       "Tenure                           36\n",
       "PreferredLoginDevice              3\n",
       "CityTier                          3\n",
       "WarehouseToHome                  34\n",
       "PreferredPaymentMode              7\n",
       "Gender                            2\n",
       "HourSpendOnApp                    6\n",
       "NumberOfDeviceRegistered          6\n",
       "PreferedOrderCat                  6\n",
       "SatisfactionScore                 5\n",
       "MaritalStatus                     3\n",
       "NumberOfAddress                  15\n",
       "Complain                          2\n",
       "OrderAmountHikeFromlastYear      16\n",
       "CouponUsed                       17\n",
       "OrderCount                       16\n",
       "DaySinceLastOrder                22\n",
       "CashbackAmount                  220\n",
       "dtype: int64"
      ]
     },
     "execution_count": 11,
     "metadata": {},
     "output_type": "execute_result"
    }
   ],
   "source": [
    "df.nunique()"
   ]
  },
  {
   "cell_type": "code",
   "execution_count": 17,
   "metadata": {},
   "outputs": [
    {
     "data": {
      "text/plain": [
       "CustomerID                       0\n",
       "Churn                            0\n",
       "Tenure                         264\n",
       "PreferredLoginDevice             0\n",
       "CityTier                         0\n",
       "WarehouseToHome                251\n",
       "PreferredPaymentMode             0\n",
       "Gender                           0\n",
       "HourSpendOnApp                 255\n",
       "NumberOfDeviceRegistered         0\n",
       "PreferedOrderCat                 0\n",
       "SatisfactionScore                0\n",
       "MaritalStatus                    0\n",
       "NumberOfAddress                  0\n",
       "Complain                         0\n",
       "OrderAmountHikeFromlastYear    265\n",
       "CouponUsed                     256\n",
       "OrderCount                     258\n",
       "DaySinceLastOrder              307\n",
       "CashbackAmount                   0\n",
       "dtype: int64"
      ]
     },
     "execution_count": 17,
     "metadata": {},
     "output_type": "execute_result"
    }
   ],
   "source": [
    "df.isnull().sum()"
   ]
  },
  {
   "cell_type": "code",
   "execution_count": 18,
   "metadata": {},
   "outputs": [
    {
     "data": {
      "text/plain": [
       "Churn\n",
       "0    0.831616\n",
       "1    0.168384\n",
       "Name: proportion, dtype: float64"
      ]
     },
     "execution_count": 18,
     "metadata": {},
     "output_type": "execute_result"
    }
   ],
   "source": [
    "df[\"Churn\"].value_counts(normalize=True)"
   ]
  },
  {
   "cell_type": "code",
   "execution_count": null,
   "metadata": {},
   "outputs": [],
   "source": [
    "#Correções possiveis antes de separar os dados\n",
    "var = {\"Mobile Phone\" : \"Mobile\",\n",
    "       \"Phone\" : \"Mobile\"}\n",
    "df[\"PreferredLoginDevice\"].replace(var, inplace= True)\n",
    "\n",
    "var = {\"Mobile Phone\" : \"Mobile\"}\n",
    "df[\"PreferedOrderCat\"].replace(var, inplace= True)\n",
    "\n",
    "var = {\"Debit Card\" : \"Debit\",\n",
    "       \"Credit Card\" : \"Credit\",\n",
    "       \"CC\" : \"Credit\",\n",
    "       \"Cash on Delivery\" : \"Cash\",\n",
    "       \"COD\" : \"Cash\"}\n",
    "df[\"PreferredPaymentMode\"].replace(var, inplace= True)"
   ]
  },
  {
   "cell_type": "code",
   "execution_count": null,
   "metadata": {},
   "outputs": [],
   "source": [
    "var = {\"Computer\": 0,\n",
    "       \"Mobile\" : 1}\n",
    "df[\"PreferredLoginDevice\"].replace(var, inplace= True)\n",
    "\n",
    "var = {\"Female\": 0,\n",
    "       \"Male\" : 1}\n",
    "df[\"Gender\"].replace(var, inplace= True)\n",
    "\n",
    "var = {\"Single\": 0,\n",
    "       \"Married\" : 1}\n",
    "df[\"MaritalStatus\"].replace(var, inplace= True)"
   ]
  },
  {
   "cell_type": "code",
   "execution_count": 19,
   "metadata": {},
   "outputs": [],
   "source": [
    "#Separando a variável dependente e as variáveis independentes\n",
    "X = df.drop(columns=[\"CustomerID\", \"Churn\"])\n",
    "y = df[\"Churn\"]\n",
    "\n",
    "#Separando dados de treino e teste\n",
    "train_X, test_X, train_y, test_y = train_test_split(X, y, test_size=0.2, \n",
    "                                                    random_state=42, stratify=y)"
   ]
  },
  {
   "cell_type": "markdown",
   "metadata": {},
   "source": [
    "Remover outliers apenas do treino, manter no teste\n",
    "\n",
    "Dados vazios, utilizar o padrão do treino tanto para teste quanto para treino"
   ]
  }
 ],
 "metadata": {
  "kernelspec": {
   "display_name": "Python 3",
   "language": "python",
   "name": "python3"
  },
  "language_info": {
   "codemirror_mode": {
    "name": "ipython",
    "version": 3
   },
   "file_extension": ".py",
   "mimetype": "text/x-python",
   "name": "python",
   "nbconvert_exporter": "python",
   "pygments_lexer": "ipython3",
   "version": "3.11.8"
  }
 },
 "nbformat": 4,
 "nbformat_minor": 2
}
